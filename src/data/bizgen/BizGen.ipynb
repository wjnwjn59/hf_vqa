{
  "cells": [
    {
      "cell_type": "markdown",
      "metadata": {
        "id": "n8YTQMfUOQZr"
      },
      "source": [
        "# Step 1: Install dependencies (required restart session)"
      ]
    },
    {
      "cell_type": "code",
      "execution_count": null,
      "metadata": {
        "colab": {
          "base_uri": "https://localhost:8080/"
        },
        "id": "baeYTVgaBJJa",
        "outputId": "5a5d0a21-a9c7-4d89-9329-0d5addb878e7"
      },
      "outputs": [
        {
          "name": "stdout",
          "output_type": "stream",
          "text": [
            "--2025-10-14 05:17:50--  https://repo.anaconda.com/miniconda/Miniconda3-py310_25.1.1-2-Linux-x86_64.sh\n",
            "Resolving repo.anaconda.com (repo.anaconda.com)... 104.16.32.241, 104.16.191.158, 2606:4700::6810:bf9e, ...\n",
            "Connecting to repo.anaconda.com (repo.anaconda.com)|104.16.32.241|:443... connected.\n",
            "HTTP request sent, awaiting response... 200 OK\n",
            "Length: 144058181 (137M) [application/octet-stream]\n",
            "Saving to: ‘mini.sh’\n",
            "\n",
            "mini.sh             100%[===================>] 137.38M  81.8MB/s    in 1.7s    \n",
            "\n",
            "2025-10-14 05:17:52 (81.8 MB/s) - ‘mini.sh’ saved [144058181/144058181]\n",
            "\n",
            "PREFIX=/usr/local\n",
            "Unpacking payload ...\n",
            "\n",
            "Installing base environment...\n",
            "\n",
            "Preparing transaction: ...working... done\n",
            "Executing transaction: ...working... done\n",
            "installation finished.\n",
            "WARNING:\n",
            "    You currently have a PYTHONPATH environment variable set. This may cause\n",
            "    unexpected behavior when running the Python interpreter in Miniconda3.\n",
            "    For best results, please verify that your PYTHONPATH only points to\n",
            "    directories of packages that are compatible with the Python interpreter\n",
            "    in Miniconda3: /usr/local\n",
            "Channels:\n",
            " - defaults\n",
            "Platform: linux-64\n",
            "Collecting package metadata (repodata.json): ...working... done\n",
            "Solving environment: ...working... done\n",
            "\n",
            "## Package Plan ##\n",
            "\n",
            "  environment location: /usr/local\n",
            "\n",
            "  added / updated specs:\n",
            "    - jupyter\n",
            "\n",
            "\n",
            "The following packages will be downloaded:\n",
            "\n",
            "    package                    |            build\n",
            "    ---------------------------|-----------------\n",
            "    anyio-4.10.0               |  py310h06a4308_0         230 KB\n",
            "    argon2-cffi-21.3.0         |     pyhd3eb1b0_0          15 KB\n",
            "    argon2-cffi-bindings-25.1.0|  py310hee96239_0          33 KB\n",
            "    asttokens-3.0.0            |  py310h06a4308_0          40 KB\n",
            "    async-lru-2.0.4            |  py310h06a4308_0          18 KB\n",
            "    attrs-24.3.0               |  py310h06a4308_0         152 KB\n",
            "    babel-2.16.0               |  py310h06a4308_0         6.8 MB\n",
            "    beautifulsoup4-4.13.5      |  py310h06a4308_0         218 KB\n",
            "    bleach-6.2.0               |  py310h06a4308_0         300 KB\n",
            "    ca-certificates-2025.9.9   |       h06a4308_0         127 KB\n",
            "    certifi-2025.10.5          |  py310h06a4308_0         157 KB\n",
            "    comm-0.2.1                 |  py310h06a4308_0          15 KB\n",
            "    debugpy-1.8.16             |  py310hbdd6827_0         2.1 MB\n",
            "    decorator-5.2.1            |  py310h06a4308_0          38 KB\n",
            "    defusedxml-0.7.1           |     pyhd3eb1b0_0          23 KB\n",
            "    exceptiongroup-1.2.0       |  py310h06a4308_0          30 KB\n",
            "    executing-2.2.1            |  py310h06a4308_0         324 KB\n",
            "    h11-0.16.0                 |  py310h06a4308_0          53 KB\n",
            "    httpcore-1.0.9             |  py310h06a4308_0          93 KB\n",
            "    httpx-0.28.1               |  py310h06a4308_0         182 KB\n",
            "    ipykernel-6.30.1           |  py310h06a4308_0         200 KB\n",
            "    ipython-8.30.0             |  py310h06a4308_0         1.1 MB\n",
            "    ipython_pygments_lexers-1.1.1|  py310h06a4308_0          16 KB\n",
            "    ipywidgets-8.1.5           |  py310h06a4308_0         200 KB\n",
            "    jedi-0.19.2                |  py310h06a4308_0         1.1 MB\n",
            "    jinja2-3.1.6               |  py310h06a4308_0         277 KB\n",
            "    json5-0.9.25               |  py310h06a4308_0          43 KB\n",
            "    jsonschema-4.25.0          |  py310h06a4308_0         158 KB\n",
            "    jsonschema-specifications-2023.7.1|  py310h06a4308_0          15 KB\n",
            "    jupyter-1.1.1              |  py310h06a4308_0           8 KB\n",
            "    jupyter-lsp-2.2.5          |  py310h06a4308_0          93 KB\n",
            "    jupyter_client-8.6.3       |  py310h06a4308_0         186 KB\n",
            "    jupyter_console-6.6.3      |  py310h06a4308_0          45 KB\n",
            "    jupyter_core-5.8.1         |  py310h06a4308_0          83 KB\n",
            "    jupyter_events-0.12.0      |  py310h06a4308_0          37 KB\n",
            "    jupyter_server-2.16.0      |  py310h06a4308_0         503 KB\n",
            "    jupyter_server_terminals-0.5.3|  py310h06a4308_0          25 KB\n",
            "    jupyterlab-4.4.7           |  py310h06a4308_0         8.0 MB\n",
            "    jupyterlab_pygments-0.3.0  |  py310h06a4308_0          18 KB\n",
            "    jupyterlab_server-2.27.3   |  py310h06a4308_0          89 KB\n",
            "    jupyterlab_widgets-3.0.15  |  py310h06a4308_0         197 KB\n",
            "    libsodium-1.0.20           |       heac8642_0         288 KB\n",
            "    markupsafe-3.0.2           |  py310h5eee18b_0          24 KB\n",
            "    matplotlib-inline-0.1.7    |  py310h06a4308_0          17 KB\n",
            "    mistune-3.1.2              |  py310h06a4308_0         118 KB\n",
            "    nbclient-0.10.2            |  py310h06a4308_0          42 KB\n",
            "    nbconvert-7.16.6           |  py310h06a4308_0           7 KB\n",
            "    nbconvert-core-7.16.6      |  py310h06a4308_0         476 KB\n",
            "    nbconvert-pandoc-7.16.6    |  py310h06a4308_0           7 KB\n",
            "    nbformat-5.10.4            |  py310h06a4308_0         139 KB\n",
            "    nest-asyncio-1.6.0         |  py310h06a4308_0          14 KB\n",
            "    notebook-7.4.5             |  py310h06a4308_0         5.9 MB\n",
            "    notebook-shim-0.2.4        |  py310h06a4308_0          23 KB\n",
            "    openssl-3.0.18             |       hd6dcaed_0         4.5 MB\n",
            "    overrides-7.4.0            |  py310h06a4308_0          29 KB\n",
            "    pandoc-3.8                 |       h06a4308_0        20.9 MB\n",
            "    pandocfilters-1.5.1        |  py310h06a4308_0          15 KB\n",
            "    parso-0.8.4                |  py310h06a4308_0         190 KB\n",
            "    pexpect-4.9.0              |  py310h06a4308_0         138 KB\n",
            "    prometheus_client-0.21.1   |  py310h06a4308_0         122 KB\n",
            "    prompt-toolkit-3.0.52      |  py310h06a4308_0         566 KB\n",
            "    prompt_toolkit-3.0.52      |       hd3eb1b0_0           5 KB\n",
            "    psutil-7.0.0               |  py310hee96239_0         421 KB\n",
            "    ptyprocess-0.7.0           |     pyhd3eb1b0_2          17 KB\n",
            "    pure_eval-0.2.3            |  py310h06a4308_0          29 KB\n",
            "    python-dateutil-2.9.0post0 |  py310h06a4308_2         280 KB\n",
            "    python-fastjsonschema-2.20.0|  py310h06a4308_0         250 KB\n",
            "    python-json-logger-3.2.1   |  py310h06a4308_0          24 KB\n",
            "    pyyaml-6.0.2               |  py310h5eee18b_0         193 KB\n",
            "    pyzmq-27.1.0               |  py310hcf8288c_0         328 KB\n",
            "    qtconsole-5.7.0            |  py310h06a4308_0         202 KB\n",
            "    qtpy-2.4.3                 |  py310h06a4308_0         109 KB\n",
            "    referencing-0.30.2         |  py310h06a4308_0          62 KB\n",
            "    rfc3339-validator-0.1.4    |  py310h06a4308_0           9 KB\n",
            "    rfc3986-validator-0.1.1    |  py310h06a4308_0           9 KB\n",
            "    rpds-py-0.22.3             |  py310h4aa5aa6_0         369 KB\n",
            "    send2trash-1.8.2           |  py310h06a4308_1          27 KB\n",
            "    six-1.17.0                 |  py310h06a4308_0          31 KB\n",
            "    sniffio-1.3.0              |  py310h06a4308_0          16 KB\n",
            "    soupsieve-2.5              |  py310h06a4308_0          70 KB\n",
            "    stack_data-0.6.3           |  py310h06a4308_0          55 KB\n",
            "    terminado-0.18.1           |  py310h06a4308_0          28 KB\n",
            "    tinycss2-1.4.0             |  py310h06a4308_0          97 KB\n",
            "    tomli-2.2.1                |  py310h06a4308_0          29 KB\n",
            "    tornado-6.5.1              |  py310h5eee18b_0         677 KB\n",
            "    traitlets-5.14.3           |  py310h06a4308_0         181 KB\n",
            "    wcwidth-0.2.13             |  py310h06a4308_0          70 KB\n",
            "    webencodings-0.5.1         |  py310h06a4308_1          20 KB\n",
            "    websocket-client-1.8.0     |  py310h06a4308_0          90 KB\n",
            "    widgetsnbextension-4.0.13  |  py310h06a4308_0         968 KB\n",
            "    yaml-0.2.5                 |       h7b6447c_0          75 KB\n",
            "    zeromq-4.3.5               |       hb0a5e54_1         332 KB\n",
            "    ------------------------------------------------------------\n",
            "                                           Total:        61.8 MB\n",
            "\n",
            "The following NEW packages will be INSTALLED:\n",
            "\n",
            "  anyio              pkgs/main/linux-64::anyio-4.10.0-py310h06a4308_0 \n",
            "  argon2-cffi        pkgs/main/noarch::argon2-cffi-21.3.0-pyhd3eb1b0_0 \n",
            "  argon2-cffi-bindi~ pkgs/main/linux-64::argon2-cffi-bindings-25.1.0-py310hee96239_0 \n",
            "  asttokens          pkgs/main/linux-64::asttokens-3.0.0-py310h06a4308_0 \n",
            "  async-lru          pkgs/main/linux-64::async-lru-2.0.4-py310h06a4308_0 \n",
            "  attrs              pkgs/main/linux-64::attrs-24.3.0-py310h06a4308_0 \n",
            "  babel              pkgs/main/linux-64::babel-2.16.0-py310h06a4308_0 \n",
            "  beautifulsoup4     pkgs/main/linux-64::beautifulsoup4-4.13.5-py310h06a4308_0 \n",
            "  bleach             pkgs/main/linux-64::bleach-6.2.0-py310h06a4308_0 \n",
            "  comm               pkgs/main/linux-64::comm-0.2.1-py310h06a4308_0 \n",
            "  debugpy            pkgs/main/linux-64::debugpy-1.8.16-py310hbdd6827_0 \n",
            "  decorator          pkgs/main/linux-64::decorator-5.2.1-py310h06a4308_0 \n",
            "  defusedxml         pkgs/main/noarch::defusedxml-0.7.1-pyhd3eb1b0_0 \n",
            "  exceptiongroup     pkgs/main/linux-64::exceptiongroup-1.2.0-py310h06a4308_0 \n",
            "  executing          pkgs/main/linux-64::executing-2.2.1-py310h06a4308_0 \n",
            "  h11                pkgs/main/linux-64::h11-0.16.0-py310h06a4308_0 \n",
            "  httpcore           pkgs/main/linux-64::httpcore-1.0.9-py310h06a4308_0 \n",
            "  httpx              pkgs/main/linux-64::httpx-0.28.1-py310h06a4308_0 \n",
            "  ipykernel          pkgs/main/linux-64::ipykernel-6.30.1-py310h06a4308_0 \n",
            "  ipython            pkgs/main/linux-64::ipython-8.30.0-py310h06a4308_0 \n",
            "  ipython_pygments_~ pkgs/main/linux-64::ipython_pygments_lexers-1.1.1-py310h06a4308_0 \n",
            "  ipywidgets         pkgs/main/linux-64::ipywidgets-8.1.5-py310h06a4308_0 \n",
            "  jedi               pkgs/main/linux-64::jedi-0.19.2-py310h06a4308_0 \n",
            "  jinja2             pkgs/main/linux-64::jinja2-3.1.6-py310h06a4308_0 \n",
            "  json5              pkgs/main/linux-64::json5-0.9.25-py310h06a4308_0 \n",
            "  jsonschema         pkgs/main/linux-64::jsonschema-4.25.0-py310h06a4308_0 \n",
            "  jsonschema-specif~ pkgs/main/linux-64::jsonschema-specifications-2023.7.1-py310h06a4308_0 \n",
            "  jupyter            pkgs/main/linux-64::jupyter-1.1.1-py310h06a4308_0 \n",
            "  jupyter-lsp        pkgs/main/linux-64::jupyter-lsp-2.2.5-py310h06a4308_0 \n",
            "  jupyter_client     pkgs/main/linux-64::jupyter_client-8.6.3-py310h06a4308_0 \n",
            "  jupyter_console    pkgs/main/linux-64::jupyter_console-6.6.3-py310h06a4308_0 \n",
            "  jupyter_core       pkgs/main/linux-64::jupyter_core-5.8.1-py310h06a4308_0 \n",
            "  jupyter_events     pkgs/main/linux-64::jupyter_events-0.12.0-py310h06a4308_0 \n",
            "  jupyter_server     pkgs/main/linux-64::jupyter_server-2.16.0-py310h06a4308_0 \n",
            "  jupyter_server_te~ pkgs/main/linux-64::jupyter_server_terminals-0.5.3-py310h06a4308_0 \n",
            "  jupyterlab         pkgs/main/linux-64::jupyterlab-4.4.7-py310h06a4308_0 \n",
            "  jupyterlab_pygmen~ pkgs/main/linux-64::jupyterlab_pygments-0.3.0-py310h06a4308_0 \n",
            "  jupyterlab_server  pkgs/main/linux-64::jupyterlab_server-2.27.3-py310h06a4308_0 \n",
            "  jupyterlab_widgets pkgs/main/linux-64::jupyterlab_widgets-3.0.15-py310h06a4308_0 \n",
            "  libsodium          pkgs/main/linux-64::libsodium-1.0.20-heac8642_0 \n",
            "  markupsafe         pkgs/main/linux-64::markupsafe-3.0.2-py310h5eee18b_0 \n",
            "  matplotlib-inline  pkgs/main/linux-64::matplotlib-inline-0.1.7-py310h06a4308_0 \n",
            "  mistune            pkgs/main/linux-64::mistune-3.1.2-py310h06a4308_0 \n",
            "  nbclient           pkgs/main/linux-64::nbclient-0.10.2-py310h06a4308_0 \n",
            "  nbconvert          pkgs/main/linux-64::nbconvert-7.16.6-py310h06a4308_0 \n",
            "  nbconvert-core     pkgs/main/linux-64::nbconvert-core-7.16.6-py310h06a4308_0 \n",
            "  nbconvert-pandoc   pkgs/main/linux-64::nbconvert-pandoc-7.16.6-py310h06a4308_0 \n",
            "  nbformat           pkgs/main/linux-64::nbformat-5.10.4-py310h06a4308_0 \n",
            "  nest-asyncio       pkgs/main/linux-64::nest-asyncio-1.6.0-py310h06a4308_0 \n",
            "  notebook           pkgs/main/linux-64::notebook-7.4.5-py310h06a4308_0 \n",
            "  notebook-shim      pkgs/main/linux-64::notebook-shim-0.2.4-py310h06a4308_0 \n",
            "  overrides          pkgs/main/linux-64::overrides-7.4.0-py310h06a4308_0 \n",
            "  pandoc             pkgs/main/linux-64::pandoc-3.8-h06a4308_0 \n",
            "  pandocfilters      pkgs/main/linux-64::pandocfilters-1.5.1-py310h06a4308_0 \n",
            "  parso              pkgs/main/linux-64::parso-0.8.4-py310h06a4308_0 \n",
            "  pexpect            pkgs/main/linux-64::pexpect-4.9.0-py310h06a4308_0 \n",
            "  prometheus_client  pkgs/main/linux-64::prometheus_client-0.21.1-py310h06a4308_0 \n",
            "  prompt-toolkit     pkgs/main/linux-64::prompt-toolkit-3.0.52-py310h06a4308_0 \n",
            "  prompt_toolkit     pkgs/main/noarch::prompt_toolkit-3.0.52-hd3eb1b0_0 \n",
            "  psutil             pkgs/main/linux-64::psutil-7.0.0-py310hee96239_0 \n",
            "  ptyprocess         pkgs/main/noarch::ptyprocess-0.7.0-pyhd3eb1b0_2 \n",
            "  pure_eval          pkgs/main/linux-64::pure_eval-0.2.3-py310h06a4308_0 \n",
            "  python-dateutil    pkgs/main/linux-64::python-dateutil-2.9.0post0-py310h06a4308_2 \n",
            "  python-fastjsonsc~ pkgs/main/linux-64::python-fastjsonschema-2.20.0-py310h06a4308_0 \n",
            "  python-json-logger pkgs/main/linux-64::python-json-logger-3.2.1-py310h06a4308_0 \n",
            "  pyyaml             pkgs/main/linux-64::pyyaml-6.0.2-py310h5eee18b_0 \n",
            "  pyzmq              pkgs/main/linux-64::pyzmq-27.1.0-py310hcf8288c_0 \n",
            "  qtconsole          pkgs/main/linux-64::qtconsole-5.7.0-py310h06a4308_0 \n",
            "  qtpy               pkgs/main/linux-64::qtpy-2.4.3-py310h06a4308_0 \n",
            "  referencing        pkgs/main/linux-64::referencing-0.30.2-py310h06a4308_0 \n",
            "  rfc3339-validator  pkgs/main/linux-64::rfc3339-validator-0.1.4-py310h06a4308_0 \n",
            "  rfc3986-validator  pkgs/main/linux-64::rfc3986-validator-0.1.1-py310h06a4308_0 \n",
            "  rpds-py            pkgs/main/linux-64::rpds-py-0.22.3-py310h4aa5aa6_0 \n",
            "  send2trash         pkgs/main/linux-64::send2trash-1.8.2-py310h06a4308_1 \n",
            "  six                pkgs/main/linux-64::six-1.17.0-py310h06a4308_0 \n",
            "  sniffio            pkgs/main/linux-64::sniffio-1.3.0-py310h06a4308_0 \n",
            "  soupsieve          pkgs/main/linux-64::soupsieve-2.5-py310h06a4308_0 \n",
            "  stack_data         pkgs/main/linux-64::stack_data-0.6.3-py310h06a4308_0 \n",
            "  terminado          pkgs/main/linux-64::terminado-0.18.1-py310h06a4308_0 \n",
            "  tinycss2           pkgs/main/linux-64::tinycss2-1.4.0-py310h06a4308_0 \n",
            "  tomli              pkgs/main/linux-64::tomli-2.2.1-py310h06a4308_0 \n",
            "  tornado            pkgs/main/linux-64::tornado-6.5.1-py310h5eee18b_0 \n",
            "  traitlets          pkgs/main/linux-64::traitlets-5.14.3-py310h06a4308_0 \n",
            "  wcwidth            pkgs/main/linux-64::wcwidth-0.2.13-py310h06a4308_0 \n",
            "  webencodings       pkgs/main/linux-64::webencodings-0.5.1-py310h06a4308_1 \n",
            "  websocket-client   pkgs/main/linux-64::websocket-client-1.8.0-py310h06a4308_0 \n",
            "  widgetsnbextension pkgs/main/linux-64::widgetsnbextension-4.0.13-py310h06a4308_0 \n",
            "  yaml               pkgs/main/linux-64::yaml-0.2.5-h7b6447c_0 \n",
            "  zeromq             pkgs/main/linux-64::zeromq-4.3.5-hb0a5e54_1 \n",
            "\n",
            "The following packages will be UPDATED:\n",
            "\n",
            "  ca-certificates                     2024.12.31-h06a4308_0 --> 2025.9.9-h06a4308_0 \n",
            "  certifi                         2025.1.31-py310h06a4308_0 --> 2025.10.5-py310h06a4308_0 \n",
            "  openssl                                 3.0.15-h5eee18b_0 --> 3.0.18-hd6dcaed_0 \n",
            "\n",
            "\n",
            "Preparing transaction: ...working... done\n",
            "Verifying transaction: ...working... done\n",
            "Executing transaction: ...working... done\n",
            "Channels:\n",
            " - conda-forge\n",
            " - defaults\n",
            "Platform: linux-64\n",
            "Collecting package metadata (repodata.json): ...working... done\n",
            "Solving environment: ...working... done\n",
            "\n",
            "## Package Plan ##\n",
            "\n",
            "  environment location: /usr/local\n",
            "\n",
            "  added / updated specs:\n",
            "    - google-colab\n",
            "\n",
            "\n",
            "The following packages will be downloaded:\n",
            "\n",
            "    package                    |            build\n",
            "    ---------------------------|-----------------\n",
            "    aiohttp-3.7.4.post0        |  py310h6acc77f_1         1.4 MB  conda-forge\n",
            "    async-timeout-3.0.1        |          py_1000          11 KB  conda-forge\n",
            "    ca-certificates-2025.10.5  |       hbd8a1cb_0         152 KB  conda-forge\n",
            "    cachetools-6.2.1           |     pyhd8ed1ab_0          16 KB  conda-forge\n",
            "    chardet-4.0.0              |  py310hff52083_3         208 KB  conda-forge\n",
            "    conda-25.7.0               |  py310hff52083_0         949 KB  conda-forge\n",
            "    google-auth-2.41.1         |     pyhd8ed1ab_0         120 KB  conda-forge\n",
            "    google-colab-1.0.0         |     pyh44b312d_0          77 KB  conda-forge\n",
            "    libblas-3.9.0              |37_h4a7cf45_openblas          17 KB  conda-forge\n",
            "    libcblas-3.9.0             |37_h0358290_openblas          17 KB  conda-forge\n",
            "    libgfortran-ng-13.2.0      |       h69a702a_0          23 KB  conda-forge\n",
            "    libgfortran5-13.2.0        |       ha4646dd_0         1.4 MB  conda-forge\n",
            "    liblapack-3.9.0            |37_h47877c9_openblas          17 KB  conda-forge\n",
            "    libopenblas-0.3.30         |       h46f56fc_0         5.6 MB\n",
            "    multidict-6.0.2            |  py310h5764c6d_1          51 KB  conda-forge\n",
            "    numpy-1.22.3               |  py310h4ef5377_2         6.8 MB  conda-forge\n",
            "    pandas-1.4.2               |  py310h769672d_1        12.5 MB  conda-forge\n",
            "    portpicker-1.6.0           |     pyhd8ed1ab_2          20 KB  conda-forge\n",
            "    pyasn1-0.6.1               |     pyhd8ed1ab_2          61 KB  conda-forge\n",
            "    pyasn1-modules-0.4.2       |     pyhd8ed1ab_0          94 KB  conda-forge\n",
            "    pyopenssl-25.1.0           |     pyhd8ed1ab_0         120 KB  conda-forge\n",
            "    python_abi-3.10            |          2_cp310           4 KB  conda-forge\n",
            "    pytz-2025.2                |     pyhd8ed1ab_0         185 KB  conda-forge\n",
            "    pyu2f-0.1.5                |     pyhd8ed1ab_1          36 KB  conda-forge\n",
            "    rsa-4.9.1                  |     pyhd8ed1ab_0          31 KB  conda-forge\n",
            "    yarl-1.7.2                 |  py310h5764c6d_2         132 KB  conda-forge\n",
            "    ------------------------------------------------------------\n",
            "                                           Total:        30.0 MB\n",
            "\n",
            "The following NEW packages will be INSTALLED:\n",
            "\n",
            "  aiohttp            conda-forge/linux-64::aiohttp-3.7.4.post0-py310h6acc77f_1 \n",
            "  async-timeout      conda-forge/noarch::async-timeout-3.0.1-py_1000 \n",
            "  cachetools         conda-forge/noarch::cachetools-6.2.1-pyhd8ed1ab_0 \n",
            "  chardet            conda-forge/linux-64::chardet-4.0.0-py310hff52083_3 \n",
            "  google-auth        conda-forge/noarch::google-auth-2.41.1-pyhd8ed1ab_0 \n",
            "  google-colab       conda-forge/noarch::google-colab-1.0.0-pyh44b312d_0 \n",
            "  libblas            conda-forge/linux-64::libblas-3.9.0-37_h4a7cf45_openblas \n",
            "  libcblas           conda-forge/linux-64::libcblas-3.9.0-37_h0358290_openblas \n",
            "  libgfortran-ng     conda-forge/linux-64::libgfortran-ng-13.2.0-h69a702a_0 \n",
            "  libgfortran5       conda-forge/linux-64::libgfortran5-13.2.0-ha4646dd_0 \n",
            "  liblapack          conda-forge/linux-64::liblapack-3.9.0-37_h47877c9_openblas \n",
            "  libopenblas        pkgs/main/linux-64::libopenblas-0.3.30-h46f56fc_0 \n",
            "  multidict          conda-forge/linux-64::multidict-6.0.2-py310h5764c6d_1 \n",
            "  numpy              conda-forge/linux-64::numpy-1.22.3-py310h4ef5377_2 \n",
            "  pandas             conda-forge/linux-64::pandas-1.4.2-py310h769672d_1 \n",
            "  portpicker         conda-forge/noarch::portpicker-1.6.0-pyhd8ed1ab_2 \n",
            "  pyasn1             conda-forge/noarch::pyasn1-0.6.1-pyhd8ed1ab_2 \n",
            "  pyasn1-modules     conda-forge/noarch::pyasn1-modules-0.4.2-pyhd8ed1ab_0 \n",
            "  pyopenssl          conda-forge/noarch::pyopenssl-25.1.0-pyhd8ed1ab_0 \n",
            "  python_abi         conda-forge/linux-64::python_abi-3.10-2_cp310 \n",
            "  pytz               conda-forge/noarch::pytz-2025.2-pyhd8ed1ab_0 \n",
            "  pyu2f              conda-forge/noarch::pyu2f-0.1.5-pyhd8ed1ab_1 \n",
            "  rsa                conda-forge/noarch::rsa-4.9.1-pyhd8ed1ab_0 \n",
            "  yarl               conda-forge/linux-64::yarl-1.7.2-py310h5764c6d_2 \n",
            "\n",
            "The following packages will be UPDATED:\n",
            "\n",
            "  ca-certificates    pkgs/main/linux-64::ca-certificates-2~ --> conda-forge/noarch::ca-certificates-2025.10.5-hbd8a1cb_0 \n",
            "  conda              pkgs/main::conda-25.1.1-py310h06a4308~ --> conda-forge::conda-25.7.0-py310hff52083_0 \n",
            "\n",
            "\n",
            "Preparing transaction: ...working... done\n",
            "Verifying transaction: ...working... done\n",
            "Executing transaction: ...working... done\n",
            "Installed kernelspec py310 in /root/.local/share/jupyter/kernels/py310\n"
          ]
        }
      ],
      "source": [
        "!wget -O mini.sh https://repo.anaconda.com/miniconda/Miniconda3-py310_25.1.1-2-Linux-x86_64.sh\n",
        "!chmod +x mini.sh\n",
        "!bash ./mini.sh -b -f -p /usr/local\n",
        "!conda install -q -y jupyter\n",
        "!conda install -q -y google-colab -c conda-forge\n",
        "!python -m ipykernel install --name \"py310\" --user"
      ]
    },
    {
      "cell_type": "code",
      "execution_count": null,
      "metadata": {
        "colab": {
          "base_uri": "https://localhost:8080/"
        },
        "id": "_JPMNDE5NOA6",
        "outputId": "40455704-ff46-41b4-bf43-58b339febf6b"
      },
      "outputs": [
        {
          "name": "stdout",
          "output_type": "stream",
          "text": [
            "Cloning into 'bizgen'...\n",
            "remote: Enumerating objects: 79, done.\u001b[K\n",
            "remote: Counting objects: 100% (28/28), done.\u001b[K\n",
            "remote: Compressing objects: 100% (17/17), done.\u001b[K\n",
            "remote: Total 79 (delta 16), reused 15 (delta 11), pack-reused 51 (from 1)\u001b[K\n",
            "Receiving objects: 100% (79/79), 3.86 MiB | 19.77 MiB/s, done.\n",
            "Resolving deltas: 100% (26/26), done.\n"
          ]
        }
      ],
      "source": [
        "!git clone https://github.com/wjnwjn59/bizgen.git"
      ]
    },
    {
      "cell_type": "code",
      "execution_count": null,
      "metadata": {
        "colab": {
          "base_uri": "https://localhost:8080/"
        },
        "id": "cLck9baONpLN",
        "outputId": "414f17ac-fe9b-43ad-efe8-c7976b79f03f"
      },
      "outputs": [
        {
          "name": "stdout",
          "output_type": "stream",
          "text": [
            "/content/bizgen\n"
          ]
        }
      ],
      "source": [
        "%cd bizgen"
      ]
    },
    {
      "cell_type": "code",
      "execution_count": null,
      "metadata": {
        "colab": {
          "base_uri": "https://localhost:8080/"
        },
        "id": "C0FvLwtlNqr5",
        "outputId": "6a4f8250-cd60-49a6-b73f-9dc7db441bd7"
      },
      "outputs": [
        {
          "name": "stdout",
          "output_type": "stream",
          "text": [
            "Collecting transformers==4.36.2 (from -r requirements.txt (line 1))\n",
            "  Downloading transformers-4.36.2-py3-none-any.whl.metadata (126 kB)\n",
            "Collecting diffusers==0.26.1 (from -r requirements.txt (line 2))\n",
            "  Downloading diffusers-0.26.1-py3-none-any.whl.metadata (18 kB)\n",
            "Collecting mmengine (from -r requirements.txt (line 3))\n",
            "  Downloading mmengine-0.10.7-py3-none-any.whl.metadata (20 kB)\n",
            "Collecting xformers (from -r requirements.txt (line 4))\n",
            "  Downloading xformers-0.0.32.post2-cp39-abi3-manylinux_2_28_x86_64.whl.metadata (1.1 kB)\n",
            "Collecting accelerate (from -r requirements.txt (line 5))\n",
            "  Downloading accelerate-1.10.1-py3-none-any.whl.metadata (19 kB)\n",
            "Collecting wandb (from -r requirements.txt (line 6))\n",
            "  Downloading wandb-0.22.2-py3-none-manylinux_2_17_x86_64.manylinux2014_x86_64.whl.metadata (10 kB)\n",
            "Collecting torch==2.2.0 (from -r requirements.txt (line 7))\n",
            "  Downloading torch-2.2.0-cp310-cp310-manylinux1_x86_64.whl.metadata (25 kB)\n",
            "Collecting torchvision==0.17.0 (from -r requirements.txt (line 8))\n",
            "  Downloading torchvision-0.17.0-cp310-cp310-manylinux1_x86_64.whl.metadata (6.6 kB)\n",
            "Collecting deepspeed (from -r requirements.txt (line 9))\n",
            "  Downloading deepspeed-0.18.0.tar.gz (1.6 MB)\n",
            "\u001b[2K     \u001b[90m━━━━━━━━━━━━━━━━━━━━━━━━━━━━━━━━━━━━━━━━\u001b[0m \u001b[32m1.6/1.6 MB\u001b[0m \u001b[31m13.4 MB/s\u001b[0m eta \u001b[36m0:00:00\u001b[0m\n",
            "\u001b[?25h  Preparing metadata (setup.py) ... \u001b[?25l\u001b[?25hdone\n",
            "Collecting peft (from -r requirements.txt (line 10))\n",
            "  Downloading peft-0.17.1-py3-none-any.whl.metadata (14 kB)\n",
            "Collecting webcolors (from -r requirements.txt (line 11))\n",
            "  Downloading webcolors-24.11.1-py3-none-any.whl.metadata (2.2 kB)\n",
            "Collecting levenshtein (from -r requirements.txt (line 12))\n",
            "  Downloading levenshtein-0.27.1-cp310-cp310-manylinux_2_17_x86_64.manylinux2014_x86_64.whl.metadata (3.6 kB)\n",
            "Collecting sentencepiece (from -r requirements.txt (line 13))\n",
            "  Downloading sentencepiece-0.2.1-cp310-cp310-manylinux_2_27_x86_64.manylinux_2_28_x86_64.whl.metadata (10 kB)\n",
            "Collecting azure-ai-vision-imageanalysis==1.0.0b2 (from -r requirements.txt (line 14))\n",
            "  Downloading azure_ai_vision_imageanalysis-1.0.0b2-py3-none-any.whl.metadata (20 kB)\n",
            "\u001b[33m  DEPRECATION: Wheel filename 'azure_ai_vision-0.8.0_alpha.1a0.dev0-py3-none-manylinux1_x86_64.whl' is not correctly normalised. Future versions of pip will raise the following error:\n",
            "  Invalid wheel filename (invalid version): 'azure_ai_vision-0.8.0_alpha.1a0.dev0-py3-none-manylinux1_x86_64'\n",
            "  \n",
            "   pip 25.1 will enforce this behaviour change. A possible replacement is to rename the wheel to use a correctly normalised name (this may require updating the version in the project metadata). Discussion can be found at https://github.com/pypa/pip/issues/12938\u001b[0m\u001b[33m\n",
            "\u001b[0mCollecting azure-ai-vision==0.15.1b1 (from -r requirements.txt (line 16))\n",
            "  Downloading azure_ai_vision-0.15.1b1-py3-none-manylinux1_x86_64.whl.metadata (1.5 kB)\n",
            "Collecting Pillow==9.5.0 (from -r requirements.txt (line 17))\n",
            "  Downloading Pillow-9.5.0-cp310-cp310-manylinux_2_28_x86_64.whl.metadata (9.5 kB)\n",
            "Collecting peft (from -r requirements.txt (line 10))\n",
            "  Downloading peft-0.12.0-py3-none-any.whl.metadata (13 kB)\n",
            "Collecting huggingface_hub==0.25.2 (from -r requirements.txt (line 20))\n",
            "  Downloading huggingface_hub-0.25.2-py3-none-any.whl.metadata (13 kB)\n",
            "Collecting filelock (from transformers==4.36.2->-r requirements.txt (line 1))\n",
            "  Downloading filelock-3.20.0-py3-none-any.whl.metadata (2.1 kB)\n",
            "Requirement already satisfied: numpy>=1.17 in /usr/local/lib/python3.10/site-packages (from transformers==4.36.2->-r requirements.txt (line 1)) (1.22.3)\n",
            "Requirement already satisfied: packaging>=20.0 in /usr/local/lib/python3.10/site-packages (from transformers==4.36.2->-r requirements.txt (line 1)) (24.2)\n",
            "Requirement already satisfied: pyyaml>=5.1 in /usr/local/lib/python3.10/site-packages (from transformers==4.36.2->-r requirements.txt (line 1)) (6.0.2)\n",
            "Collecting regex!=2019.12.17 (from transformers==4.36.2->-r requirements.txt (line 1))\n",
            "  Downloading regex-2025.9.18-cp310-cp310-manylinux2014_x86_64.manylinux_2_17_x86_64.manylinux_2_28_x86_64.whl.metadata (40 kB)\n",
            "Requirement already satisfied: requests in /usr/local/lib/python3.10/site-packages (from transformers==4.36.2->-r requirements.txt (line 1)) (2.32.3)\n",
            "Collecting tokenizers<0.19,>=0.14 (from transformers==4.36.2->-r requirements.txt (line 1))\n",
            "  Downloading tokenizers-0.15.2-cp310-cp310-manylinux_2_17_x86_64.manylinux2014_x86_64.whl.metadata (6.7 kB)\n",
            "Collecting safetensors>=0.3.1 (from transformers==4.36.2->-r requirements.txt (line 1))\n",
            "  Downloading safetensors-0.6.2-cp38-abi3-manylinux_2_17_x86_64.manylinux2014_x86_64.whl.metadata (4.1 kB)\n",
            "Requirement already satisfied: tqdm>=4.27 in /usr/local/lib/python3.10/site-packages (from transformers==4.36.2->-r requirements.txt (line 1)) (4.67.1)\n",
            "Collecting importlib-metadata (from diffusers==0.26.1->-r requirements.txt (line 2))\n",
            "  Downloading importlib_metadata-8.7.0-py3-none-any.whl.metadata (4.8 kB)\n",
            "Requirement already satisfied: typing-extensions>=4.8.0 in /usr/local/lib/python3.10/site-packages (from torch==2.2.0->-r requirements.txt (line 7)) (4.12.2)\n",
            "Collecting sympy (from torch==2.2.0->-r requirements.txt (line 7))\n",
            "  Downloading sympy-1.14.0-py3-none-any.whl.metadata (12 kB)\n",
            "Collecting networkx (from torch==2.2.0->-r requirements.txt (line 7))\n",
            "  Downloading networkx-3.4.2-py3-none-any.whl.metadata (6.3 kB)\n",
            "Requirement already satisfied: jinja2 in /usr/local/lib/python3.10/site-packages (from torch==2.2.0->-r requirements.txt (line 7)) (3.1.6)\n",
            "Collecting fsspec (from torch==2.2.0->-r requirements.txt (line 7))\n",
            "  Downloading fsspec-2025.9.0-py3-none-any.whl.metadata (10 kB)\n",
            "Collecting nvidia-cuda-nvrtc-cu12==12.1.105 (from torch==2.2.0->-r requirements.txt (line 7))\n",
            "  Downloading nvidia_cuda_nvrtc_cu12-12.1.105-py3-none-manylinux1_x86_64.whl.metadata (1.5 kB)\n",
            "Collecting nvidia-cuda-runtime-cu12==12.1.105 (from torch==2.2.0->-r requirements.txt (line 7))\n",
            "  Downloading nvidia_cuda_runtime_cu12-12.1.105-py3-none-manylinux1_x86_64.whl.metadata (1.5 kB)\n",
            "Collecting nvidia-cuda-cupti-cu12==12.1.105 (from torch==2.2.0->-r requirements.txt (line 7))\n",
            "  Downloading nvidia_cuda_cupti_cu12-12.1.105-py3-none-manylinux1_x86_64.whl.metadata (1.6 kB)\n",
            "Collecting nvidia-cudnn-cu12==8.9.2.26 (from torch==2.2.0->-r requirements.txt (line 7))\n",
            "  Downloading nvidia_cudnn_cu12-8.9.2.26-py3-none-manylinux1_x86_64.whl.metadata (1.6 kB)\n",
            "Collecting nvidia-cublas-cu12==12.1.3.1 (from torch==2.2.0->-r requirements.txt (line 7))\n",
            "  Downloading nvidia_cublas_cu12-12.1.3.1-py3-none-manylinux1_x86_64.whl.metadata (1.5 kB)\n",
            "Collecting nvidia-cufft-cu12==11.0.2.54 (from torch==2.2.0->-r requirements.txt (line 7))\n",
            "  Downloading nvidia_cufft_cu12-11.0.2.54-py3-none-manylinux1_x86_64.whl.metadata (1.5 kB)\n",
            "Collecting nvidia-curand-cu12==10.3.2.106 (from torch==2.2.0->-r requirements.txt (line 7))\n",
            "  Downloading nvidia_curand_cu12-10.3.2.106-py3-none-manylinux1_x86_64.whl.metadata (1.5 kB)\n",
            "Collecting nvidia-cusolver-cu12==11.4.5.107 (from torch==2.2.0->-r requirements.txt (line 7))\n",
            "  Downloading nvidia_cusolver_cu12-11.4.5.107-py3-none-manylinux1_x86_64.whl.metadata (1.6 kB)\n",
            "Collecting nvidia-cusparse-cu12==12.1.0.106 (from torch==2.2.0->-r requirements.txt (line 7))\n",
            "  Downloading nvidia_cusparse_cu12-12.1.0.106-py3-none-manylinux1_x86_64.whl.metadata (1.6 kB)\n",
            "Collecting nvidia-nccl-cu12==2.19.3 (from torch==2.2.0->-r requirements.txt (line 7))\n",
            "  Downloading nvidia_nccl_cu12-2.19.3-py3-none-manylinux1_x86_64.whl.metadata (1.8 kB)\n",
            "Collecting nvidia-nvtx-cu12==12.1.105 (from torch==2.2.0->-r requirements.txt (line 7))\n",
            "  Downloading nvidia_nvtx_cu12-12.1.105-py3-none-manylinux1_x86_64.whl.metadata (1.7 kB)\n",
            "Collecting triton==2.2.0 (from torch==2.2.0->-r requirements.txt (line 7))\n",
            "  Downloading triton-2.2.0-cp310-cp310-manylinux_2_17_x86_64.manylinux2014_x86_64.whl.metadata (1.4 kB)\n",
            "Requirement already satisfied: psutil in /usr/local/lib/python3.10/site-packages (from peft->-r requirements.txt (line 10)) (7.0.0)\n",
            "Collecting isodate<1.0.0,>=0.6.1 (from azure-ai-vision-imageanalysis==1.0.0b2->-r requirements.txt (line 14))\n",
            "  Downloading isodate-0.7.2-py3-none-any.whl.metadata (11 kB)\n",
            "Collecting azure-core<2.0.0,>=1.30.0 (from azure-ai-vision-imageanalysis==1.0.0b2->-r requirements.txt (line 14))\n",
            "  Downloading azure_core-1.35.1-py3-none-any.whl.metadata (46 kB)\n",
            "Collecting nvidia-nvjitlink-cu12 (from nvidia-cusolver-cu12==11.4.5.107->torch==2.2.0->-r requirements.txt (line 7))\n",
            "  Downloading nvidia_nvjitlink_cu12-12.9.86-py3-none-manylinux2010_x86_64.manylinux_2_12_x86_64.whl.metadata (1.7 kB)\n",
            "Collecting addict (from mmengine->-r requirements.txt (line 3))\n",
            "  Downloading addict-2.4.0-py3-none-any.whl.metadata (1.0 kB)\n",
            "Collecting matplotlib (from mmengine->-r requirements.txt (line 3))\n",
            "  Downloading matplotlib-3.10.7-cp310-cp310-manylinux2014_x86_64.manylinux_2_17_x86_64.whl.metadata (11 kB)\n",
            "Requirement already satisfied: rich in /usr/local/lib/python3.10/site-packages (from mmengine->-r requirements.txt (line 3)) (13.9.4)\n",
            "Collecting termcolor (from mmengine->-r requirements.txt (line 3))\n",
            "  Downloading termcolor-3.1.0-py3-none-any.whl.metadata (6.4 kB)\n",
            "Collecting yapf (from mmengine->-r requirements.txt (line 3))\n",
            "  Downloading yapf-0.43.0-py3-none-any.whl.metadata (46 kB)\n",
            "Collecting opencv-python>=3 (from mmengine->-r requirements.txt (line 3))\n",
            "  Downloading opencv_python-4.12.0.88-cp37-abi3-manylinux2014_x86_64.manylinux_2_17_x86_64.whl.metadata (19 kB)\n",
            "INFO: pip is looking at multiple versions of xformers to determine which version is compatible with other requirements. This could take a while.\n",
            "Collecting xformers (from -r requirements.txt (line 4))\n",
            "  Downloading xformers-0.0.32.post1-cp39-abi3-manylinux_2_28_x86_64.whl.metadata (1.1 kB)\n",
            "  Downloading xformers-0.0.31.post1-cp39-abi3-manylinux_2_28_x86_64.whl.metadata (1.1 kB)\n",
            "  Downloading xformers-0.0.31-cp39-abi3-manylinux_2_28_x86_64.whl.metadata (1.0 kB)\n",
            "  Downloading xformers-0.0.30-cp310-cp310-manylinux_2_28_x86_64.whl.metadata (1.0 kB)\n",
            "  Downloading xformers-0.0.29.post3-cp310-cp310-manylinux_2_28_x86_64.whl.metadata (1.0 kB)\n",
            "  Downloading xformers-0.0.29.post2-cp310-cp310-manylinux_2_28_x86_64.whl.metadata (1.0 kB)\n",
            "  Downloading xformers-0.0.29.post1-cp310-cp310-manylinux_2_28_x86_64.whl.metadata (1.0 kB)\n",
            "INFO: pip is still looking at multiple versions of xformers to determine which version is compatible with other requirements. This could take a while.\n",
            "  Downloading xformers-0.0.29-cp310-cp310-manylinux_2_28_x86_64.whl.metadata (1.0 kB)\n",
            "  Downloading xformers-0.0.28.post3-cp310-cp310-manylinux_2_28_x86_64.whl.metadata (1.0 kB)\n",
            "  Downloading xformers-0.0.28.post2-cp310-cp310-manylinux_2_28_x86_64.whl.metadata (1.0 kB)\n",
            "  Downloading xformers-0.0.28.post1-cp310-cp310-manylinux_2_28_x86_64.whl.metadata (1.0 kB)\n",
            "  Downloading xformers-0.0.28-cp310-cp310-manylinux_2_28_x86_64.whl.metadata (1.0 kB)\n",
            "INFO: This is taking longer than usual. You might need to provide the dependency resolver with stricter constraints to reduce runtime. See https://pip.pypa.io/warnings/backtracking for guidance. If you want to abort this run, press Ctrl + C.\n",
            "  Downloading xformers-0.0.27.post2-cp310-cp310-manylinux2014_x86_64.whl.metadata (1.0 kB)\n",
            "  Downloading xformers-0.0.27.post1-cp310-cp310-manylinux2014_x86_64.whl.metadata (1.0 kB)\n",
            "  Downloading xformers-0.0.27-cp310-cp310-manylinux2014_x86_64.whl.metadata (1.0 kB)\n",
            "  Downloading xformers-0.0.26.post1-cp310-cp310-manylinux2014_x86_64.whl.metadata (1.0 kB)\n",
            "  Downloading xformers-0.0.25.post1-cp310-cp310-manylinux2014_x86_64.whl.metadata (1.0 kB)\n",
            "  Downloading xformers-0.0.25-cp310-cp310-manylinux2014_x86_64.whl.metadata (1.0 kB)\n",
            "  Downloading xformers-0.0.24-cp310-cp310-manylinux2014_x86_64.whl.metadata (1.0 kB)\n",
            "Collecting click>=8.0.1 (from wandb->-r requirements.txt (line 6))\n",
            "  Downloading click-8.3.0-py3-none-any.whl.metadata (2.6 kB)\n",
            "Collecting gitpython!=3.1.29,>=1.0.0 (from wandb->-r requirements.txt (line 6))\n",
            "  Downloading gitpython-3.1.45-py3-none-any.whl.metadata (13 kB)\n",
            "Requirement already satisfied: platformdirs in /usr/local/lib/python3.10/site-packages (from wandb->-r requirements.txt (line 6)) (3.10.0)\n",
            "Collecting protobuf!=4.21.0,!=5.28.0,<7,>=3.19.0 (from wandb->-r requirements.txt (line 6))\n",
            "  Downloading protobuf-6.32.1-cp39-abi3-manylinux2014_x86_64.whl.metadata (593 bytes)\n",
            "Requirement already satisfied: pydantic<3 in /usr/local/lib/python3.10/site-packages (from wandb->-r requirements.txt (line 6)) (2.10.3)\n",
            "Collecting sentry-sdk>=2.0.0 (from wandb->-r requirements.txt (line 6))\n",
            "  Downloading sentry_sdk-2.41.0-py2.py3-none-any.whl.metadata (10 kB)\n",
            "Collecting einops (from deepspeed->-r requirements.txt (line 9))\n",
            "  Downloading einops-0.8.1-py3-none-any.whl.metadata (13 kB)\n",
            "Collecting hjson (from deepspeed->-r requirements.txt (line 9))\n",
            "  Downloading hjson-3.1.0-py3-none-any.whl.metadata (2.6 kB)\n",
            "Collecting msgpack (from deepspeed->-r requirements.txt (line 9))\n",
            "  Downloading msgpack-1.1.2-cp310-cp310-manylinux2014_x86_64.manylinux_2_17_x86_64.manylinux_2_28_x86_64.whl.metadata (8.1 kB)\n",
            "Collecting ninja (from deepspeed->-r requirements.txt (line 9))\n",
            "  Downloading ninja-1.13.0-py3-none-manylinux2014_x86_64.manylinux_2_17_x86_64.whl.metadata (5.1 kB)\n",
            "Collecting py-cpuinfo (from deepspeed->-r requirements.txt (line 9))\n",
            "  Downloading py_cpuinfo-9.0.0-py3-none-any.whl.metadata (794 bytes)\n",
            "Collecting rapidfuzz<4.0.0,>=3.9.0 (from levenshtein->-r requirements.txt (line 12))\n",
            "  Downloading rapidfuzz-3.14.1-cp310-cp310-manylinux_2_27_x86_64.manylinux_2_28_x86_64.whl.metadata (12 kB)\n",
            "Requirement already satisfied: six>=1.11.0 in /usr/local/lib/python3.10/site-packages (from azure-core<2.0.0,>=1.30.0->azure-ai-vision-imageanalysis==1.0.0b2->-r requirements.txt (line 14)) (1.17.0)\n",
            "Collecting gitdb<5,>=4.0.1 (from gitpython!=3.1.29,>=1.0.0->wandb->-r requirements.txt (line 6))\n",
            "  Downloading gitdb-4.0.12-py3-none-any.whl.metadata (1.2 kB)\n",
            "Collecting numpy>=1.17 (from transformers==4.36.2->-r requirements.txt (line 1))\n",
            "  Downloading numpy-2.2.6-cp310-cp310-manylinux_2_17_x86_64.manylinux2014_x86_64.whl.metadata (62 kB)\n",
            "Requirement already satisfied: annotated-types>=0.6.0 in /usr/local/lib/python3.10/site-packages (from pydantic<3->wandb->-r requirements.txt (line 6)) (0.6.0)\n",
            "Requirement already satisfied: pydantic-core==2.27.1 in /usr/local/lib/python3.10/site-packages (from pydantic<3->wandb->-r requirements.txt (line 6)) (2.27.1)\n",
            "Requirement already satisfied: charset-normalizer<4,>=2 in /usr/local/lib/python3.10/site-packages (from requests->transformers==4.36.2->-r requirements.txt (line 1)) (3.3.2)\n",
            "Requirement already satisfied: idna<4,>=2.5 in /usr/local/lib/python3.10/site-packages (from requests->transformers==4.36.2->-r requirements.txt (line 1)) (3.7)\n",
            "Requirement already satisfied: urllib3<3,>=1.21.1 in /usr/local/lib/python3.10/site-packages (from requests->transformers==4.36.2->-r requirements.txt (line 1)) (2.3.0)\n",
            "Requirement already satisfied: certifi>=2017.4.17 in /usr/local/lib/python3.10/site-packages (from requests->transformers==4.36.2->-r requirements.txt (line 1)) (2025.10.5)\n",
            "Collecting zipp>=3.20 (from importlib-metadata->diffusers==0.26.1->-r requirements.txt (line 2))\n",
            "  Downloading zipp-3.23.0-py3-none-any.whl.metadata (3.6 kB)\n",
            "Requirement already satisfied: MarkupSafe>=2.0 in /usr/local/lib/python3.10/site-packages (from jinja2->torch==2.2.0->-r requirements.txt (line 7)) (3.0.2)\n",
            "Collecting contourpy>=1.0.1 (from matplotlib->mmengine->-r requirements.txt (line 3))\n",
            "  Downloading contourpy-1.3.2-cp310-cp310-manylinux_2_17_x86_64.manylinux2014_x86_64.whl.metadata (5.5 kB)\n",
            "Collecting cycler>=0.10 (from matplotlib->mmengine->-r requirements.txt (line 3))\n",
            "  Downloading cycler-0.12.1-py3-none-any.whl.metadata (3.8 kB)\n",
            "Collecting fonttools>=4.22.0 (from matplotlib->mmengine->-r requirements.txt (line 3))\n",
            "  Downloading fonttools-4.60.1-cp310-cp310-manylinux2014_x86_64.manylinux_2_17_x86_64.whl.metadata (112 kB)\n",
            "Collecting kiwisolver>=1.3.1 (from matplotlib->mmengine->-r requirements.txt (line 3))\n",
            "  Downloading kiwisolver-1.4.9-cp310-cp310-manylinux_2_12_x86_64.manylinux2010_x86_64.whl.metadata (6.3 kB)\n",
            "Collecting pyparsing>=3 (from matplotlib->mmengine->-r requirements.txt (line 3))\n",
            "  Downloading pyparsing-3.2.5-py3-none-any.whl.metadata (5.0 kB)\n",
            "Requirement already satisfied: python-dateutil>=2.7 in /usr/local/lib/python3.10/site-packages (from matplotlib->mmengine->-r requirements.txt (line 3)) (2.9.0.post0)\n",
            "Requirement already satisfied: markdown-it-py>=2.2.0 in /usr/local/lib/python3.10/site-packages (from rich->mmengine->-r requirements.txt (line 3)) (2.2.0)\n",
            "Requirement already satisfied: pygments<3.0.0,>=2.13.0 in /usr/local/lib/python3.10/site-packages (from rich->mmengine->-r requirements.txt (line 3)) (2.15.1)\n",
            "Collecting mpmath<1.4,>=1.1.0 (from sympy->torch==2.2.0->-r requirements.txt (line 7))\n",
            "  Downloading mpmath-1.3.0-py3-none-any.whl.metadata (8.6 kB)\n",
            "Requirement already satisfied: tomli>=2.0.1 in /usr/local/lib/python3.10/site-packages (from yapf->mmengine->-r requirements.txt (line 3)) (2.2.1)\n",
            "Collecting smmap<6,>=3.0.1 (from gitdb<5,>=4.0.1->gitpython!=3.1.29,>=1.0.0->wandb->-r requirements.txt (line 6))\n",
            "  Downloading smmap-5.0.2-py3-none-any.whl.metadata (4.3 kB)\n",
            "Requirement already satisfied: mdurl~=0.1 in /usr/local/lib/python3.10/site-packages (from markdown-it-py>=2.2.0->rich->mmengine->-r requirements.txt (line 3)) (0.1.0)\n",
            "\u001b[33mWARNING: The candidate selected for download or install is a yanked version: 'azure-ai-vision' candidate (version 0.15.1b1 at https://files.pythonhosted.org/packages/13/ae/775fad735d5398b239163bfb9968bb6b3d2f0b973fd1c98090e9718daab8/azure_ai_vision-0.15.1b1-py3-none-manylinux1_x86_64.whl (from https://pypi.org/simple/azure-ai-vision/) (requires-python:>=3.7))\n",
            "Reason for being yanked: replaced by https://pypi.org/project/azure-ai-vision-imageanalysis/1.0.0b1/\u001b[0m\u001b[33m\n",
            "\u001b[0mDownloading transformers-4.36.2-py3-none-any.whl (8.2 MB)\n",
            "\u001b[2K   \u001b[90m━━━━━━━━━━━━━━━━━━━━━━━━━━━━━━━━━━━━━━━━\u001b[0m \u001b[32m8.2/8.2 MB\u001b[0m \u001b[31m34.6 MB/s\u001b[0m eta \u001b[36m0:00:00\u001b[0m\n",
            "\u001b[?25hDownloading diffusers-0.26.1-py3-none-any.whl (1.9 MB)\n",
            "\u001b[2K   \u001b[90m━━━━━━━━━━━━━━━━━━━━━━━━━━━━━━━━━━━━━━━━\u001b[0m \u001b[32m1.9/1.9 MB\u001b[0m \u001b[31m42.2 MB/s\u001b[0m eta \u001b[36m0:00:00\u001b[0m\n",
            "\u001b[?25hDownloading torch-2.2.0-cp310-cp310-manylinux1_x86_64.whl (755.5 MB)\n",
            "\u001b[2K   \u001b[90m━━━━━━━━━━━━━━━━━━━━━━━━━━━━━━━━━━━━━━━━\u001b[0m \u001b[32m755.5/755.5 MB\u001b[0m \u001b[31m17.6 MB/s\u001b[0m eta \u001b[36m0:00:00\u001b[0m\n",
            "\u001b[?25hDownloading torchvision-0.17.0-cp310-cp310-manylinux1_x86_64.whl (6.9 MB)\n",
            "\u001b[2K   \u001b[90m━━━━━━━━━━━━━━━━━━━━━━━━━━━━━━━━━━━━━━━━\u001b[0m \u001b[32m6.9/6.9 MB\u001b[0m \u001b[31m95.5 MB/s\u001b[0m eta \u001b[36m0:00:00\u001b[0m\n",
            "\u001b[?25hDownloading peft-0.12.0-py3-none-any.whl (296 kB)\n",
            "Downloading azure_ai_vision_imageanalysis-1.0.0b2-py3-none-any.whl (64 kB)\n",
            "Downloading azure_ai_vision-0.15.1b1-py3-none-manylinux1_x86_64.whl (1.1 MB)\n",
            "\u001b[2K   \u001b[90m━━━━━━━━━━━━━━━━━━━━━━━━━━━━━━━━━━━━━━━━\u001b[0m \u001b[32m1.1/1.1 MB\u001b[0m \u001b[31m61.6 MB/s\u001b[0m eta \u001b[36m0:00:00\u001b[0m\n",
            "\u001b[?25hDownloading Pillow-9.5.0-cp310-cp310-manylinux_2_28_x86_64.whl (3.4 MB)\n",
            "\u001b[2K   \u001b[90m━━━━━━━━━━━━━━━━━━━━━━━━━━━━━━━━━━━━━━━━\u001b[0m \u001b[32m3.4/3.4 MB\u001b[0m \u001b[31m119.0 MB/s\u001b[0m eta \u001b[36m0:00:00\u001b[0m\n",
            "\u001b[?25hDownloading huggingface_hub-0.25.2-py3-none-any.whl (436 kB)\n",
            "Downloading nvidia_cublas_cu12-12.1.3.1-py3-none-manylinux1_x86_64.whl (410.6 MB)\n",
            "\u001b[2K   \u001b[90m━━━━━━━━━━━━━━━━━━━━━━━━━━━━━━━━━━━━━━━━\u001b[0m \u001b[32m410.6/410.6 MB\u001b[0m \u001b[31m46.9 MB/s\u001b[0m eta \u001b[36m0:00:00\u001b[0m\n",
            "\u001b[?25hDownloading nvidia_cuda_cupti_cu12-12.1.105-py3-none-manylinux1_x86_64.whl (14.1 MB)\n",
            "\u001b[2K   \u001b[90m━━━━━━━━━━━━━━━━━━━━━━━━━━━━━━━━━━━━━━━━\u001b[0m \u001b[32m14.1/14.1 MB\u001b[0m \u001b[31m148.7 MB/s\u001b[0m eta \u001b[36m0:00:00\u001b[0m\n",
            "\u001b[?25hDownloading nvidia_cuda_nvrtc_cu12-12.1.105-py3-none-manylinux1_x86_64.whl (23.7 MB)\n",
            "\u001b[2K   \u001b[90m━━━━━━━━━━━━━━━━━━━━━━━━━━━━━━━━━━━━━━━━\u001b[0m \u001b[32m23.7/23.7 MB\u001b[0m \u001b[31m176.5 MB/s\u001b[0m eta \u001b[36m0:00:00\u001b[0m\n",
            "\u001b[?25hDownloading nvidia_cuda_runtime_cu12-12.1.105-py3-none-manylinux1_x86_64.whl (823 kB)\n",
            "\u001b[2K   \u001b[90m━━━━━━━━━━━━━━━━━━━━━━━━━━━━━━━━━━━━━━━━\u001b[0m \u001b[32m823.6/823.6 kB\u001b[0m \u001b[31m44.7 MB/s\u001b[0m eta \u001b[36m0:00:00\u001b[0m\n",
            "\u001b[?25hDownloading nvidia_cudnn_cu12-8.9.2.26-py3-none-manylinux1_x86_64.whl (731.7 MB)\n",
            "\u001b[2K   \u001b[90m━━━━━━━━━━━━━━━━━━━━━━━━━━━━━━━━━━━━━━━━\u001b[0m \u001b[32m731.7/731.7 MB\u001b[0m \u001b[31m21.3 MB/s\u001b[0m eta \u001b[36m0:00:00\u001b[0m\n",
            "\u001b[?25hDownloading nvidia_cufft_cu12-11.0.2.54-py3-none-manylinux1_x86_64.whl (121.6 MB)\n",
            "\u001b[2K   \u001b[90m━━━━━━━━━━━━━━━━━━━━━━━━━━━━━━━━━━━━━━━━\u001b[0m \u001b[32m121.6/121.6 MB\u001b[0m \u001b[31m67.9 MB/s\u001b[0m eta \u001b[36m0:00:00\u001b[0m\n",
            "\u001b[?25hDownloading nvidia_curand_cu12-10.3.2.106-py3-none-manylinux1_x86_64.whl (56.5 MB)\n",
            "\u001b[2K   \u001b[90m━━━━━━━━━━━━━━━━━━━━━━━━━━━━━━━━━━━━━━━━\u001b[0m \u001b[32m56.5/56.5 MB\u001b[0m \u001b[31m60.9 MB/s\u001b[0m eta \u001b[36m0:00:00\u001b[0m\n",
            "\u001b[?25hDownloading nvidia_cusolver_cu12-11.4.5.107-py3-none-manylinux1_x86_64.whl (124.2 MB)\n",
            "\u001b[2K   \u001b[90m━━━━━━━━━━━━━━━━━━━━━━━━━━━━━━━━━━━━━━━━\u001b[0m \u001b[32m124.2/124.2 MB\u001b[0m \u001b[31m67.3 MB/s\u001b[0m eta \u001b[36m0:00:00\u001b[0m\n",
            "\u001b[?25hDownloading nvidia_cusparse_cu12-12.1.0.106-py3-none-manylinux1_x86_64.whl (196.0 MB)\n",
            "\u001b[2K   \u001b[90m━━━━━━━━━━━━━━━━━━━━━━━━━━━━━━━━━━━━━━━━\u001b[0m \u001b[32m196.0/196.0 MB\u001b[0m \u001b[31m59.3 MB/s\u001b[0m eta \u001b[36m0:00:00\u001b[0m\n",
            "\u001b[?25hDownloading nvidia_nccl_cu12-2.19.3-py3-none-manylinux1_x86_64.whl (166.0 MB)\n",
            "\u001b[2K   \u001b[90m━━━━━━━━━━━━━━━━━━━━━━━━━━━━━━━━━━━━━━━━\u001b[0m \u001b[32m166.0/166.0 MB\u001b[0m \u001b[31m66.8 MB/s\u001b[0m eta \u001b[36m0:00:00\u001b[0m\n",
            "\u001b[?25hDownloading nvidia_nvtx_cu12-12.1.105-py3-none-manylinux1_x86_64.whl (99 kB)\n",
            "Downloading triton-2.2.0-cp310-cp310-manylinux_2_17_x86_64.manylinux2014_x86_64.whl (167.9 MB)\n",
            "\u001b[2K   \u001b[90m━━━━━━━━━━━━━━━━━━━━━━━━━━━━━━━━━━━━━━━━\u001b[0m \u001b[32m167.9/167.9 MB\u001b[0m \u001b[31m63.5 MB/s\u001b[0m eta \u001b[36m0:00:00\u001b[0m\n",
            "\u001b[?25hDownloading mmengine-0.10.7-py3-none-any.whl (452 kB)\n",
            "Downloading xformers-0.0.24-cp310-cp310-manylinux2014_x86_64.whl (218.2 MB)\n",
            "\u001b[2K   \u001b[90m━━━━━━━━━━━━━━━━━━━━━━━━━━━━━━━━━━━━━━━━\u001b[0m \u001b[32m218.2/218.2 MB\u001b[0m \u001b[31m64.7 MB/s\u001b[0m eta \u001b[36m0:00:00\u001b[0m\n",
            "\u001b[?25hDownloading accelerate-1.10.1-py3-none-any.whl (374 kB)\n",
            "Downloading wandb-0.22.2-py3-none-manylinux_2_17_x86_64.manylinux2014_x86_64.whl (19.9 MB)\n",
            "\u001b[2K   \u001b[90m━━━━━━━━━━━━━━━━━━━━━━━━━━━━━━━━━━━━━━━━\u001b[0m \u001b[32m19.9/19.9 MB\u001b[0m \u001b[31m120.8 MB/s\u001b[0m eta \u001b[36m0:00:00\u001b[0m\n",
            "\u001b[?25hDownloading webcolors-24.11.1-py3-none-any.whl (14 kB)\n",
            "Downloading levenshtein-0.27.1-cp310-cp310-manylinux_2_17_x86_64.manylinux2014_x86_64.whl (161 kB)\n",
            "Downloading sentencepiece-0.2.1-cp310-cp310-manylinux_2_27_x86_64.manylinux_2_28_x86_64.whl (1.4 MB)\n",
            "\u001b[2K   \u001b[90m━━━━━━━━━━━━━━━━━━━━━━━━━━━━━━━━━━━━━━━━\u001b[0m \u001b[32m1.4/1.4 MB\u001b[0m \u001b[31m57.5 MB/s\u001b[0m eta \u001b[36m0:00:00\u001b[0m\n",
            "\u001b[?25hDownloading azure_core-1.35.1-py3-none-any.whl (211 kB)\n",
            "Downloading click-8.3.0-py3-none-any.whl (107 kB)\n",
            "Downloading fsspec-2025.9.0-py3-none-any.whl (199 kB)\n",
            "Downloading gitpython-3.1.45-py3-none-any.whl (208 kB)\n",
            "Downloading isodate-0.7.2-py3-none-any.whl (22 kB)\n",
            "Downloading opencv_python-4.12.0.88-cp37-abi3-manylinux2014_x86_64.manylinux_2_17_x86_64.whl (67.0 MB)\n",
            "\u001b[2K   \u001b[90m━━━━━━━━━━━━━━━━━━━━━━━━━━━━━━━━━━━━━━━━\u001b[0m \u001b[32m67.0/67.0 MB\u001b[0m \u001b[31m54.2 MB/s\u001b[0m eta \u001b[36m0:00:00\u001b[0m\n",
            "\u001b[?25hDownloading numpy-2.2.6-cp310-cp310-manylinux_2_17_x86_64.manylinux2014_x86_64.whl (16.8 MB)\n",
            "\u001b[2K   \u001b[90m━━━━━━━━━━━━━━━━━━━━━━━━━━━━━━━━━━━━━━━━\u001b[0m \u001b[32m16.8/16.8 MB\u001b[0m \u001b[31m121.5 MB/s\u001b[0m eta \u001b[36m0:00:00\u001b[0m\n",
            "\u001b[?25hDownloading protobuf-6.32.1-cp39-abi3-manylinux2014_x86_64.whl (322 kB)\n",
            "Downloading rapidfuzz-3.14.1-cp310-cp310-manylinux_2_27_x86_64.manylinux_2_28_x86_64.whl (3.2 MB)\n",
            "\u001b[2K   \u001b[90m━━━━━━━━━━━━━━━━━━━━━━━━━━━━━━━━━━━━━━━━\u001b[0m \u001b[32m3.2/3.2 MB\u001b[0m \u001b[31m86.4 MB/s\u001b[0m eta \u001b[36m0:00:00\u001b[0m\n",
            "\u001b[?25hDownloading regex-2025.9.18-cp310-cp310-manylinux2014_x86_64.manylinux_2_17_x86_64.manylinux_2_28_x86_64.whl (789 kB)\n",
            "\u001b[2K   \u001b[90m━━━━━━━━━━━━━━━━━━━━━━━━━━━━━━━━━━━━━━━━\u001b[0m \u001b[32m789.9/789.9 kB\u001b[0m \u001b[31m48.9 MB/s\u001b[0m eta \u001b[36m0:00:00\u001b[0m\n",
            "\u001b[?25hDownloading safetensors-0.6.2-cp38-abi3-manylinux_2_17_x86_64.manylinux2014_x86_64.whl (485 kB)\n",
            "Downloading sentry_sdk-2.41.0-py2.py3-none-any.whl (370 kB)\n",
            "Downloading tokenizers-0.15.2-cp310-cp310-manylinux_2_17_x86_64.manylinux2014_x86_64.whl (3.6 MB)\n",
            "\u001b[2K   \u001b[90m━━━━━━━━━━━━━━━━━━━━━━━━━━━━━━━━━━━━━━━━\u001b[0m \u001b[32m3.6/3.6 MB\u001b[0m \u001b[31m93.0 MB/s\u001b[0m eta \u001b[36m0:00:00\u001b[0m\n",
            "\u001b[?25hDownloading addict-2.4.0-py3-none-any.whl (3.8 kB)\n",
            "Downloading einops-0.8.1-py3-none-any.whl (64 kB)\n",
            "Downloading filelock-3.20.0-py3-none-any.whl (16 kB)\n",
            "Downloading hjson-3.1.0-py3-none-any.whl (54 kB)\n",
            "Downloading importlib_metadata-8.7.0-py3-none-any.whl (27 kB)\n",
            "Downloading matplotlib-3.10.7-cp310-cp310-manylinux2014_x86_64.manylinux_2_17_x86_64.whl (8.7 MB)\n",
            "\u001b[2K   \u001b[90m━━━━━━━━━━━━━━━━━━━━━━━━━━━━━━━━━━━━━━━━\u001b[0m \u001b[32m8.7/8.7 MB\u001b[0m \u001b[31m109.4 MB/s\u001b[0m eta \u001b[36m0:00:00\u001b[0m\n",
            "\u001b[?25hDownloading msgpack-1.1.2-cp310-cp310-manylinux2014_x86_64.manylinux_2_17_x86_64.manylinux_2_28_x86_64.whl (406 kB)\n",
            "Downloading networkx-3.4.2-py3-none-any.whl (1.7 MB)\n",
            "\u001b[2K   \u001b[90m━━━━━━━━━━━━━━━━━━━━━━━━━━━━━━━━━━━━━━━━\u001b[0m \u001b[32m1.7/1.7 MB\u001b[0m \u001b[31m70.5 MB/s\u001b[0m eta \u001b[36m0:00:00\u001b[0m\n",
            "\u001b[?25hDownloading ninja-1.13.0-py3-none-manylinux2014_x86_64.manylinux_2_17_x86_64.whl (180 kB)\n",
            "Downloading py_cpuinfo-9.0.0-py3-none-any.whl (22 kB)\n",
            "Downloading sympy-1.14.0-py3-none-any.whl (6.3 MB)\n",
            "\u001b[2K   \u001b[90m━━━━━━━━━━━━━━━━━━━━━━━━━━━━━━━━━━━━━━━━\u001b[0m \u001b[32m6.3/6.3 MB\u001b[0m \u001b[31m110.0 MB/s\u001b[0m eta \u001b[36m0:00:00\u001b[0m\n",
            "\u001b[?25hDownloading termcolor-3.1.0-py3-none-any.whl (7.7 kB)\n",
            "Downloading yapf-0.43.0-py3-none-any.whl (256 kB)\n",
            "Downloading contourpy-1.3.2-cp310-cp310-manylinux_2_17_x86_64.manylinux2014_x86_64.whl (325 kB)\n",
            "Downloading cycler-0.12.1-py3-none-any.whl (8.3 kB)\n",
            "Downloading fonttools-4.60.1-cp310-cp310-manylinux2014_x86_64.manylinux_2_17_x86_64.whl (4.8 MB)\n",
            "\u001b[2K   \u001b[90m━━━━━━━━━━━━━━━━━━━━━━━━━━━━━━━━━━━━━━━━\u001b[0m \u001b[32m4.8/4.8 MB\u001b[0m \u001b[31m89.6 MB/s\u001b[0m eta \u001b[36m0:00:00\u001b[0m\n",
            "\u001b[?25hDownloading gitdb-4.0.12-py3-none-any.whl (62 kB)\n",
            "Downloading kiwisolver-1.4.9-cp310-cp310-manylinux_2_12_x86_64.manylinux2010_x86_64.whl (1.6 MB)\n",
            "\u001b[2K   \u001b[90m━━━━━━━━━━━━━━━━━━━━━━━━━━━━━━━━━━━━━━━━\u001b[0m \u001b[32m1.6/1.6 MB\u001b[0m \u001b[31m47.8 MB/s\u001b[0m eta \u001b[36m0:00:00\u001b[0m\n",
            "\u001b[?25hDownloading mpmath-1.3.0-py3-none-any.whl (536 kB)\n",
            "\u001b[2K   \u001b[90m━━━━━━━━━━━━━━━━━━━━━━━━━━━━━━━━━━━━━━━━\u001b[0m \u001b[32m536.2/536.2 kB\u001b[0m \u001b[31m25.4 MB/s\u001b[0m eta \u001b[36m0:00:00\u001b[0m\n",
            "\u001b[?25hDownloading pyparsing-3.2.5-py3-none-any.whl (113 kB)\n",
            "Downloading zipp-3.23.0-py3-none-any.whl (10 kB)\n",
            "Downloading nvidia_nvjitlink_cu12-12.9.86-py3-none-manylinux2010_x86_64.manylinux_2_12_x86_64.whl (39.7 MB)\n",
            "\u001b[2K   \u001b[90m━━━━━━━━━━━━━━━━━━━━━━━━━━━━━━━━━━━━━━━━\u001b[0m \u001b[32m39.7/39.7 MB\u001b[0m \u001b[31m50.8 MB/s\u001b[0m eta \u001b[36m0:00:00\u001b[0m\n",
            "\u001b[?25hDownloading smmap-5.0.2-py3-none-any.whl (24 kB)\n",
            "Building wheels for collected packages: deepspeed\n",
            "  Building wheel for deepspeed (setup.py) ... \u001b[?25l\u001b[?25hdone\n",
            "  Created wheel for deepspeed: filename=deepspeed-0.18.0-py3-none-any.whl size=1754868 sha256=2c52e40868eff307ae6802dce96827b5233214014d129524464376dbbfaa2713\n",
            "  Stored in directory: /root/.cache/pip/wheels/a5/84/c4/36167461b936b3656b117758f5b1e312d908080707b9cffde7\n",
            "Successfully built deepspeed\n",
            "Installing collected packages: py-cpuinfo, mpmath, hjson, addict, zipp, yapf, webcolors, termcolor, sympy, smmap, sentry-sdk, sentencepiece, safetensors, regex, rapidfuzz, pyparsing, protobuf, Pillow, nvidia-nvtx-cu12, nvidia-nvjitlink-cu12, nvidia-nccl-cu12, nvidia-curand-cu12, nvidia-cufft-cu12, nvidia-cuda-runtime-cu12, nvidia-cuda-nvrtc-cu12, nvidia-cuda-cupti-cu12, nvidia-cublas-cu12, numpy, ninja, networkx, msgpack, kiwisolver, isodate, fsspec, fonttools, filelock, einops, cycler, click, azure-ai-vision, triton, opencv-python, nvidia-cusparse-cu12, nvidia-cudnn-cu12, levenshtein, importlib-metadata, huggingface_hub, gitdb, contourpy, azure-core, tokenizers, nvidia-cusolver-cu12, matplotlib, gitpython, diffusers, azure-ai-vision-imageanalysis, wandb, transformers, torch, mmengine, xformers, torchvision, deepspeed, accelerate, peft\n",
            "  Attempting uninstall: numpy\n",
            "    Found existing installation: numpy 1.22.3\n",
            "    Uninstalling numpy-1.22.3:\n",
            "      Successfully uninstalled numpy-1.22.3\n",
            "Successfully installed Pillow-9.5.0 accelerate-1.10.1 addict-2.4.0 azure-ai-vision-0.15.1b1 azure-ai-vision-imageanalysis-1.0.0b2 azure-core-1.35.1 click-8.3.0 contourpy-1.3.2 cycler-0.12.1 deepspeed-0.18.0 diffusers-0.26.1 einops-0.8.1 filelock-3.20.0 fonttools-4.60.1 fsspec-2025.9.0 gitdb-4.0.12 gitpython-3.1.45 hjson-3.1.0 huggingface_hub-0.25.2 importlib-metadata-8.7.0 isodate-0.7.2 kiwisolver-1.4.9 levenshtein-0.27.1 matplotlib-3.10.7 mmengine-0.10.7 mpmath-1.3.0 msgpack-1.1.2 networkx-3.4.2 ninja-1.13.0 numpy-2.2.6 nvidia-cublas-cu12-12.1.3.1 nvidia-cuda-cupti-cu12-12.1.105 nvidia-cuda-nvrtc-cu12-12.1.105 nvidia-cuda-runtime-cu12-12.1.105 nvidia-cudnn-cu12-8.9.2.26 nvidia-cufft-cu12-11.0.2.54 nvidia-curand-cu12-10.3.2.106 nvidia-cusolver-cu12-11.4.5.107 nvidia-cusparse-cu12-12.1.0.106 nvidia-nccl-cu12-2.19.3 nvidia-nvjitlink-cu12-12.9.86 nvidia-nvtx-cu12-12.1.105 opencv-python-4.12.0.88 peft-0.12.0 protobuf-6.32.1 py-cpuinfo-9.0.0 pyparsing-3.2.5 rapidfuzz-3.14.1 regex-2025.9.18 safetensors-0.6.2 sentencepiece-0.2.1 sentry-sdk-2.41.0 smmap-5.0.2 sympy-1.14.0 termcolor-3.1.0 tokenizers-0.15.2 torch-2.2.0 torchvision-0.17.0 transformers-4.36.2 triton-2.2.0 wandb-0.22.2 webcolors-24.11.1 xformers-0.0.24 yapf-0.43.0 zipp-3.23.0\n"
          ]
        },
        {
          "data": {
            "application/vnd.colab-display-data+json": {
              "id": "c13bd91c53ac45e4a2ae0d88929cfd6a",
              "pip_warning": {
                "packages": [
                  "cycler",
                  "google",
                  "kiwisolver",
                  "matplotlib",
                  "mpl_toolkits",
                  "numpy",
                  "pyparsing"
                ]
              }
            }
          },
          "metadata": {},
          "output_type": "display_data"
        }
      ],
      "source": [
        "!pip install -r requirements.txt"
      ]
    },
    {
      "cell_type": "code",
      "execution_count": null,
      "metadata": {
        "colab": {
          "base_uri": "https://localhost:8080/"
        },
        "id": "pRFZNQTkQ5N0",
        "outputId": "1b8a6f9a-637e-428c-a7f1-0342cd328bec"
      },
      "outputs": [
        {
          "name": "stdout",
          "output_type": "stream",
          "text": [
            "Collecting numpy<2\n",
            "  Downloading numpy-1.26.4-cp310-cp310-manylinux_2_17_x86_64.manylinux2014_x86_64.whl.metadata (61 kB)\n",
            "Downloading numpy-1.26.4-cp310-cp310-manylinux_2_17_x86_64.manylinux2014_x86_64.whl (18.2 MB)\n",
            "\u001b[2K   \u001b[90m━━━━━━━━━━━━━━━━━━━━━━━━━━━━━━━━━━━━━━━━\u001b[0m \u001b[32m18.2/18.2 MB\u001b[0m \u001b[31m39.8 MB/s\u001b[0m eta \u001b[36m0:00:00\u001b[0m\n",
            "\u001b[?25hInstalling collected packages: numpy\n",
            "  Attempting uninstall: numpy\n",
            "    Found existing installation: numpy 2.2.6\n",
            "    Uninstalling numpy-2.2.6:\n",
            "      Successfully uninstalled numpy-2.2.6\n",
            "\u001b[31mERROR: pip's dependency resolver does not currently take into account all the packages that are installed. This behaviour is the source of the following dependency conflicts.\n",
            "opencv-python 4.12.0.88 requires numpy<2.3.0,>=2; python_version >= \"3.9\", but you have numpy 1.26.4 which is incompatible.\u001b[0m\u001b[31m\n",
            "\u001b[0mSuccessfully installed numpy-1.26.4\n"
          ]
        },
        {
          "data": {
            "application/vnd.colab-display-data+json": {
              "id": "e12c1784183c49dfb5e0734111b4528a",
              "pip_warning": {
                "packages": [
                  "numpy"
                ]
              }
            }
          },
          "metadata": {},
          "output_type": "display_data"
        }
      ],
      "source": [
        "!pip install \"numpy<2\""
      ]
    },
    {
      "cell_type": "markdown",
      "metadata": {
        "id": "ACRNEyOkOazc"
      },
      "source": [
        "# Step 2: Download checkpoints"
      ]
    },
    {
      "cell_type": "code",
      "execution_count": null,
      "metadata": {
        "colab": {
          "base_uri": "https://localhost:8080/"
        },
        "id": "7W-7pf-PHN1O",
        "outputId": "7ad2ae03-dac8-4c53-e12b-c95bbb4bd5bc"
      },
      "outputs": [
        {
          "name": "stdout",
          "output_type": "stream",
          "text": [
            "/content/bizgen\n"
          ]
        }
      ],
      "source": [
        "%cd bizgen"
      ]
    },
    {
      "cell_type": "code",
      "execution_count": null,
      "metadata": {
        "id": "Gy69QeOVNyUW"
      },
      "outputs": [],
      "source": [
        "!git clone https://huggingface.co/PYY2001/BizGen"
      ]
    },
    {
      "cell_type": "code",
      "execution_count": null,
      "metadata": {
        "id": "mG1n36NkO-Aw"
      },
      "outputs": [],
      "source": [
        "!mv BizGen checkpoints"
      ]
    },
    {
      "cell_type": "markdown",
      "metadata": {
        "id": "khuqejRewgcu"
      },
      "source": [
        "# Step 3: Prepare an infographic content from SQuADv2 data"
      ]
    },
    {
      "cell_type": "code",
      "execution_count": null,
      "metadata": {
        "colab": {
          "base_uri": "https://localhost:8080/"
        },
        "id": "KymJ233g0gZ-",
        "outputId": "56d74bd4-d143-452a-a0b0-738fd063e029"
      },
      "outputs": [
        {
          "name": "stdout",
          "output_type": "stream",
          "text": [
            "\u001b[2K   \u001b[90m━━━━━━━━━━━━━━━━━━━━━━━━━━━━━━━━━━━━━━━━\u001b[0m \u001b[32m42.1/42.1 MB\u001b[0m \u001b[31m18.5 MB/s\u001b[0m eta \u001b[36m0:00:00\u001b[0m\n",
            "\u001b[?25h"
          ]
        }
      ],
      "source": [
        "!pip install blingfire -q"
      ]
    },
    {
      "cell_type": "code",
      "execution_count": null,
      "metadata": {
        "colab": {
          "base_uri": "https://localhost:8080/"
        },
        "id": "70CZOGfTwjwf",
        "outputId": "13f22221-3ae0-420d-81ff-bec24e96dc87"
      },
      "outputs": [
        {
          "name": "stdout",
          "output_type": "stream",
          "text": [
            "Context:\n",
            "Beyoncé Giselle Knowles-Carter (/biːˈjɒnseɪ/ bee-YON-say) (born September 4, 1981) is an American singer, songwriter, record producer and actress. Born and raised in Houston, Texas, she performed in various singing and dancing competitions as a child, and rose to fame in the late 1990s as lead singer of R&B girl-group Destiny's Child. Managed by her father, Mathew Knowles, the group became one of the world's best-selling girl groups of all time. Their hiatus saw the release of Beyoncé's debut album, Dangerously in Love (2003), which established her as a solo artist worldwide, earned five Grammy Awards and featured the Billboard Hot 100 number-one singles \"Crazy in Love\" and \"Baby Boy\".\n",
            "\n",
            "Number of QAs for this context: 15\n",
            "\n",
            "1. Q: When did Beyonce start becoming popular?\n",
            "   A: ['in the late 1990s']\n",
            "2. Q: What areas did Beyonce compete in when she was growing up?\n",
            "   A: ['singing and dancing']\n",
            "3. Q: When did Beyonce leave Destiny's Child and become a solo singer?\n",
            "   A: ['2003']\n",
            "4. Q: In what city and state did Beyonce  grow up? \n",
            "   A: ['Houston, Texas']\n",
            "5. Q: In which decade did Beyonce become famous?\n",
            "   A: ['late 1990s']\n",
            "6. Q: In what R&B group was she the lead singer?\n",
            "   A: [\"Destiny's Child\"]\n",
            "7. Q: What album made her a worldwide known artist?\n",
            "   A: ['Dangerously in Love']\n",
            "8. Q: Who managed the Destiny's Child group?\n",
            "   A: ['Mathew Knowles']\n",
            "9. Q: When did Beyoncé rise to fame?\n",
            "   A: ['late 1990s']\n",
            "10. Q: What role did Beyoncé have in Destiny's Child?\n",
            "   A: ['lead singer']\n",
            "11. Q: What was the first album Beyoncé released as a solo artist?\n",
            "   A: ['Dangerously in Love']\n",
            "12. Q: When did Beyoncé release Dangerously in Love?\n",
            "   A: ['2003']\n",
            "13. Q: How many Grammy awards did Beyoncé win for her first solo album?\n",
            "   A: ['five']\n",
            "14. Q: What was Beyoncé's role in Destiny's Child?\n",
            "   A: ['lead singer']\n",
            "15. Q: What was the name of Beyoncé's first solo album?\n",
            "   A: ['Dangerously in Love']\n"
          ]
        }
      ],
      "source": [
        "from datasets import load_dataset\n",
        "\n",
        "dataset = load_dataset(\"squad_v2\")\n",
        "\n",
        "train_data = dataset[\"train\"]\n",
        "\n",
        "context = train_data[0][\"context\"]\n",
        "\n",
        "qas = []\n",
        "for example in train_data:\n",
        "    if example[\"context\"] == context:\n",
        "        qas.append({\n",
        "            \"question\": example[\"question\"],\n",
        "            \"answers\": example[\"answers\"],\n",
        "        })\n",
        "\n",
        "print(f\"Context:\\n{context}\\n\")\n",
        "print(f\"Number of QAs for this context: {len(qas)}\\n\")\n",
        "\n",
        "for i, qa in enumerate(qas):\n",
        "    print(f\"{i+1}. Q: {qa['question']}\")\n",
        "    print(f\"   A: {qa['answers']['text']}\")"
      ]
    },
    {
      "cell_type": "markdown",
      "metadata": {
        "id": "DejyJwzE0s1c"
      },
      "source": [
        "## Step 3.1: Get prompt 01"
      ]
    },
    {
      "cell_type": "code",
      "execution_count": null,
      "metadata": {
        "colab": {
          "base_uri": "https://localhost:8080/"
        },
        "id": "TIUgCMplyyxf",
        "outputId": "b0f2689e-7196-42ff-b38f-ffb54f1455f3"
      },
      "outputs": [],
      "source": [
        "import json\n",
        "from jinja2 import Template\n",
        "from blingfire import text_to_sentences\n",
        "\n",
        "sents_raw = text_to_sentences(context).strip().split(\"\\n\")\n",
        "sentences = [{\"id\": i + 1, \"text\": s} for i, s in enumerate(sents_raw)]\n",
        "\n",
        "with open(\"content_des_stage_1.jinja\", \"r\", encoding=\"utf-8\") as f:\n",
        "    template_text = f.read()\n",
        "\n",
        "template = Template(template_text, trim_blocks=True, lstrip_blocks=True)\n",
        "rendered_output = template.render(sents=sentences, qas=qas)\n",
        "\n",
        "print(rendered_output)"
      ]
    },
    {
      "cell_type": "markdown",
      "metadata": {
        "id": "j4LzybYc2VfL"
      },
      "source": [
        "Example output from prompt 01:\n",
        "```\n",
        "{\n",
        "\"summaries\": [\n",
        "{\"id\": 1, \"summary\": \"Beyoncé Giselle Knowles-Carter, born September 4, 1981, is an American singer, songwriter, producer, and actress.\"},\n",
        "{\"id\": 2, \"summary\": \"Raised in Houston, Texas, she joined singing and dancing contests as a child and gained fame in the late 1990s as the lead singer of Destiny's Child.\"},\n",
        "{\"id\": 3, \"summary\": \"Managed by her father Mathew Knowles, Destiny's Child became one of the best-selling girl groups in history.\"},\n",
        "{\"id\": 4, \"summary\": \"During the group's hiatus, Beyoncé released her debut solo album 'Dangerously in Love' (2003), winning five Grammys and producing the number-one hits 'Crazy in Love' and 'Baby Boy'.\"}\n",
        "]\n",
        "}\n",
        "```"
      ]
    },
    {
      "cell_type": "code",
      "execution_count": 2,
      "metadata": {
        "id": "dD2veZB12t-s"
      },
      "outputs": [],
      "source": [
        "# Put your output from prompt 1 here\n",
        "stage_1_output = \"\"\"\n",
        "{\n",
        "\"summaries\": [\n",
        "{\"id\": 1, \"summary\": \"Beyoncé Giselle Knowles-Carter, born September 4, 1981, is an American singer, songwriter, producer, and actress.\"},\n",
        "{\"id\": 2, \"summary\": \"Raised in Houston, Texas, she joined singing and dancing contests as a child and gained fame in the late 1990s as the lead singer of Destiny's Child.\"},\n",
        "{\"id\": 3, \"summary\": \"Managed by her father Mathew Knowles, Destiny's Child became one of the best-selling girl groups in history.\"},\n",
        "{\"id\": 4, \"summary\": \"During the group's hiatus, Beyoncé released her debut solo album 'Dangerously in Love' (2003), winning five Grammys and producing the number-one hits 'Crazy in Love' and 'Baby Boy'.\"}\n",
        "]\n",
        "}\n",
        "\"\"\""
      ]
    },
    {
      "cell_type": "markdown",
      "metadata": {
        "id": "kSX8q98T0yla"
      },
      "source": [
        "## Step 3.2: Get prompt 02 (required output from prompt 01)"
      ]
    },
    {
      "cell_type": "code",
      "execution_count": null,
      "metadata": {
        "colab": {
          "base_uri": "https://localhost:8080/"
        },
        "id": "ZtOJCCIk01K6",
        "outputId": "a046e236-0418-403e-dccf-6e88c1c05f69"
      },
      "outputs": [
        {
          "name": "stdout",
          "output_type": "stream",
          "text": [
            "You are a dispassionate, rigorous, highly experienced infographic design planner. \n",
            "Our objective is to produce a single, coherent caption for a finished infographic that combines clear display text with complementary visual figures for layout-guided image generation. The workflow has three stages: Stage 1 creates concise per-sentence text items from the context; Stage 2 proposes visual figure ideas for each item; Stage 3 weaves all texts and figures into one cohesive, single-paragraph caption.\n",
            "\n",
            "**Global constraints:** All proposed visuals must be rendered in a **cartoon/illustrative style**, and **no text/lettering/numerals/logos** may appear inside any visual.\n",
            "\n",
            "You are in Stage 2 now; your task is to propose a **MAIN** visual idea for each text item from Stage 1 that conveys its meaning **without any lettering**. You **may also** provide **one SUPPORTIVE small figure** (optional), such as a simple abstract shape arrangement (e.g., “The image features a simple, abstract design with a blue circle and a black rectangle.”). Note: in Stage 3, all figure ideas from this stage will be included in the final caption and may be placed anywhere in the narrative (no assumed one-to-one or local pairing).\n",
            "\n",
            "You are given with the items below which are the per-sentence summaries generated in Stage 1. For each summary, produce:\n",
            "- **One required MAIN idea** (detailed, faithful scene description).\n",
            "- **Zero or one optional SUPPORTIVE micro-figure** (brief abstract/iconic aid).\n",
            "\n",
            "STRICT OUTPUT FORMAT (reply with ONE valid JSON object only — no extra text, no markdown):\n",
            "- Use exactly these keys and structure: {\"figures\": [{\"id\": <int>, \"ideas\": [\"<MAIN>\", \"<SUPPORTIVE?>\"]}, ...]}\n",
            "- Use standard JSON with double quotes for all strings.\n",
            "- No comments, no trailing commas.\n",
            "- Keep IDs exactly as provided and in ascending order.\n",
            "- The **first element** of each \"ideas\" array **must be the MAIN idea**.\n",
            "- If you do **not** provide a supportive idea, **delete** the second placeholder **and its comma** so the JSON remains valid.\n",
            "- Do NOT add, remove, or reorder items or keys.\n",
            "\n",
            "Quality rules:\n",
            "- **MAIN idea (required):** 1–3 sentences, ~25–80 words; neutral, declarative prose; describe primary subject(s), salient attributes (e.g., color/pattern), action/pose, immediate setting/background, and simple composition cues when useful; no new facts; **no lettering or text of any kind**.\n",
            "- **SUPPORTIVE idea (optional):** 1 sentence, ~5–20 words; simple abstract/iconic aid (shapes, minimal icons, small motif); must be visually helpful but not redundant; **no lettering**.\n",
            "- Mood phrasing: use careful language for visually implied states (e.g., “appears to be happy”).\n",
            "- Counting & structure: state clear counts; for abstract graphics, name shapes and arrangement.\n",
            "- Placement-neutral: do not claim or prescribe where a figure will appear relative to any text; Stage 3 may place figures anywhere.\n",
            "- Avoid blanks unless the summary explicitly calls for emptiness/minimalism.\n",
            "- No camera/style jargon or prompt-engineering tokens. No brands or real-person identification.\n",
            "- **Style reminder:** all visuals are cartoon/illustrative.\n",
            "\n",
            "Stage-1 Summaries:\n",
            "1. Beyoncé Giselle Knowles-Carter, born September 4, 1981, is an American singer, songwriter, producer, and actress.\n",
            "2. Raised in Houston, Texas, she joined singing and dancing contests as a child and gained fame in the late 1990s as the lead singer of Destiny's Child.\n",
            "3. Managed by her father Mathew Knowles, Destiny's Child became one of the best-selling girl groups in history.\n",
            "4. During the group's hiatus, Beyoncé released her debut solo album 'Dangerously in Love' (2003), winning five Grammys and producing the number-one hits 'Crazy in Love' and 'Baby Boy'.\n",
            "\n",
            "Return ONLY the JSON object below, replacing placeholders with your descriptions. Do NOT add or remove keys or items. If you provide only the MAIN idea, delete the second placeholder (and its comma).\n",
            "\n",
            "{\n",
            "  \"figures\": [\n",
            "{\"id\": 1, \"ideas\": [\n",
            "      \"<<<REPLACE_ID_1_MAIN>>>\"\n",
            "      , \"<<<REPLACE_ID_1_SUPPORTIVE>>>\"\n",
            "    ]},{\"id\": 2, \"ideas\": [\n",
            "      \"<<<REPLACE_ID_2_MAIN>>>\"\n",
            "      , \"<<<REPLACE_ID_2_SUPPORTIVE>>>\"\n",
            "    ]},{\"id\": 3, \"ideas\": [\n",
            "      \"<<<REPLACE_ID_3_MAIN>>>\"\n",
            "      , \"<<<REPLACE_ID_3_SUPPORTIVE>>>\"\n",
            "    ]},{\"id\": 4, \"ideas\": [\n",
            "      \"<<<REPLACE_ID_4_MAIN>>>\"\n",
            "      , \"<<<REPLACE_ID_4_SUPPORTIVE>>>\"\n",
            "    ]}  ]\n",
            "}\n"
          ]
        }
      ],
      "source": [
        "data = json.loads(stage_1_output)\n",
        "items = data[\"summaries\"]\n",
        "\n",
        "with open(\"content_des_stage_2.jinja\", \"r\", encoding=\"utf-8\") as f:\n",
        "    tmpl_text = f.read()\n",
        "\n",
        "tmpl = Template(tmpl_text, trim_blocks=True, lstrip_blocks=True)\n",
        "rendered_prompt_2 = tmpl.render(items=items)\n",
        "\n",
        "print(rendered_prompt_2)"
      ]
    },
    {
      "cell_type": "markdown",
      "metadata": {
        "id": "-Th4BXPG2OyW"
      },
      "source": [
        "Example output from prompt 02:\n",
        "```\n",
        "{\n",
        "\"figures\": [\n",
        "{\"id\": 1, \"ideas\": [\n",
        "\"A cartoon portrait of a confident woman with long flowing hair holds a microphone in one hand and stands on a softly lit stage, surrounded by musical notes and studio lights. She wears stylish attire and exudes a calm yet charismatic presence.\",\n",
        "\"An abstract motif of a golden star overlapping a music note shape.\"\n",
        "]},\n",
        "{\"id\": 2, \"ideas\": [\n",
        "\"A young girl in casual clothes joyfully performs on a small stage, singing into a microphone while a few people applaud. Behind her, a bright sun and suburban houses evoke a warm Texas neighborhood.\",\n",
        "\"A simple abstract swirl combining a sunburst and a small heart shape.\"\n",
        "]},\n",
        "{\"id\": 3, \"ideas\": [\n",
        "\"Three women in coordinated outfits perform synchronized dance moves under stage lights, while a man watches proudly from the side, suggesting guidance and management. The audience appears energetic and supportive in a concert-like setting.\",\n",
        "\"A geometric arrangement of three interlocking circles symbolizing unity and teamwork.\"\n",
        "]},\n",
        "{\"id\": 4, \"ideas\": [\n",
        "\"The same woman now stands alone on a grand stage, surrounded by shining awards and musical symbols, conveying success and independence. She appears joyful, with spotlight beams emphasizing her solo stardom.\",\n",
        "\"A stylized ribbon-like curve ascending upward, symbolizing rising achievement.\"\n",
        "]}\n",
        "]\n",
        "}\n",
        "```"
      ]
    },
    {
      "cell_type": "code",
      "execution_count": 3,
      "metadata": {
        "id": "mqoNK__R2ma7"
      },
      "outputs": [],
      "source": [
        "# Put your output from prompt 2 here\n",
        "stage_2_output = \"\"\"\n",
        "{\n",
        "\"figures\": [\n",
        "{\"id\": 1, \"ideas\": [\n",
        "\"A cartoon portrait of a confident woman with long flowing hair holds a microphone in one hand and stands on a softly lit stage, surrounded by musical notes and studio lights. She wears stylish attire and exudes a calm yet charismatic presence.\",\n",
        "\"An abstract motif of a golden star overlapping a music note shape.\"\n",
        "]},\n",
        "{\"id\": 2, \"ideas\": [\n",
        "\"A young girl in casual clothes joyfully performs on a small stage, singing into a microphone while a few people applaud. Behind her, a bright sun and suburban houses evoke a warm Texas neighborhood.\",\n",
        "\"A simple abstract swirl combining a sunburst and a small heart shape.\"\n",
        "]},\n",
        "{\"id\": 3, \"ideas\": [\n",
        "\"Three women in coordinated outfits perform synchronized dance moves under stage lights, while a man watches proudly from the side, suggesting guidance and management. The audience appears energetic and supportive in a concert-like setting.\",\n",
        "\"A geometric arrangement of three interlocking circles symbolizing unity and teamwork.\"\n",
        "]},\n",
        "{\"id\": 4, \"ideas\": [\n",
        "\"The same woman now stands alone on a grand stage, surrounded by shining awards and musical symbols, conveying success and independence. She appears joyful, with spotlight beams emphasizing her solo stardom.\",\n",
        "\"A stylized ribbon-like curve ascending upward, symbolizing rising achievement.\"\n",
        "]}\n",
        "]\n",
        "}\n",
        "\"\"\""
      ]
    },
    {
      "cell_type": "markdown",
      "metadata": {
        "id": "gNB1GMHz01UR"
      },
      "source": [
        "## Step 3.3: Get prompt 03 (required output from prompt 01 and prompt 02)"
      ]
    },
    {
      "cell_type": "code",
      "execution_count": null,
      "metadata": {
        "colab": {
          "base_uri": "https://localhost:8080/"
        },
        "id": "aAEwOfqc04UP",
        "outputId": "e0e5e3e6-39b9-4630-bb4f-7d0bc948bbe8"
      },
      "outputs": [],
      "source": [
        "s1 = json.loads(stage_1_output)\n",
        "s2 = json.loads(stage_2_output)\n",
        "\n",
        "merged = {it[\"id\"]: {\"id\": it[\"id\"], \"summary\": it[\"summary\"], \"ideas\": []} for it in s1[\"summaries\"]}\n",
        "for it in s2[\"figures\"]:\n",
        "    if it[\"id\"] in merged:\n",
        "        merged[it[\"id\"]][\"ideas\"] = it[\"ideas\"]\n",
        "merged_items = [merged[k] for k in sorted(merged.keys())]\n",
        "\n",
        "with open(\"content_des_stage_3.jinja\", \"r\", encoding=\"utf-8\") as f:\n",
        "    tmpl_text = f.read()\n",
        "\n",
        "tmpl = Template(tmpl_text, trim_blocks=True, lstrip_blocks=True)\n",
        "rendered_prompt_3 = tmpl.render(items=merged_items)\n",
        "\n",
        "print(rendered_prompt_3)"
      ]
    },
    {
      "cell_type": "markdown",
      "metadata": {
        "id": "jS3BtPH73B_f"
      },
      "source": [
        "Example output from prompt 3:\n",
        "```\n",
        "The image is an infographic titled \"Beyoncé’s Rise to Stardom\". The background features a smooth gradient of deep blue fading into warm gold, framed by subtle light rays and bordered with a thin decorative edge. The layout flows vertically from her early life at the top to her solo career at the bottom. At the top, \"Beyoncé Giselle Knowles-Carter, born September 4, 1981, is an American singer, songwriter, producer, and actress.\" appears beside a cartoon portrait of a confident woman with long flowing hair holding a microphone on a softly lit stage, surrounded by musical notes and studio lights, with an abstract golden star overlapping a music note shape nearby. Below this, \"Raised in Houston, Texas, she joined singing and dancing contests as a child and gained fame in the late 1990s as the lead singer of Destiny's Child.\" is illustrated by a cheerful young girl performing on a small neighborhood stage under a bright sun with warm houses in the background, accompanied by a simple swirl of a sunburst and heart motif. In the center section, \"Managed by her father Mathew Knowles, Destiny's Child became one of the best-selling girl groups in history.\" is paired with three women performing synchronized dance moves under stage lights while a proud man watches, the energy mirrored by a geometric pattern of three interlocking circles suggesting unity and teamwork. At the bottom, \"During the group's hiatus, Beyoncé released her debut solo album 'Dangerously in Love' (2003), winning five Grammys and producing the number-one hits 'Crazy in Love' and 'Baby Boy'.\" is visualized by the same woman standing alone on a grand stage surrounded by shining awards and musical symbols under bright spotlights, enhanced by a stylized ribbon-like curve rising upward to symbolize her achievements. The overall style of the image is colorful, balanced, and elegantly illustrative, blending biographical storytelling with symbolic visual harmony.\n",
        "```"
      ]
    },
    {
      "cell_type": "code",
      "execution_count": 4,
      "metadata": {
        "id": "knFb977R3Fn-"
      },
      "outputs": [],
      "source": [
        "# Put your output from prompt 3 here\n",
        "stage_3_output = \"\"\"\n",
        "The image is an infographic titled \"Beyoncé’s Rise to Stardom\". The background features a smooth gradient of deep blue fading into warm gold, framed by subtle light rays and bordered with a thin decorative edge. The layout flows vertically from her early life at the top to her solo career at the bottom. At the top, \"Beyoncé Giselle Knowles-Carter, born September 4, 1981, is an American singer, songwriter, producer, and actress.\" appears beside a cartoon portrait of a confident woman with long flowing hair holding a microphone on a softly lit stage, surrounded by musical notes and studio lights, with an abstract golden star overlapping a music note shape nearby. Below this, \"Raised in Houston, Texas, she joined singing and dancing contests as a child and gained fame in the late 1990s as the lead singer of Destiny's Child.\" is illustrated by a cheerful young girl performing on a small neighborhood stage under a bright sun with warm houses in the background, accompanied by a simple swirl of a sunburst and heart motif. In the center section, \"Managed by her father Mathew Knowles, Destiny's Child became one of the best-selling girl groups in history.\" is paired with three women performing synchronized dance moves under stage lights while a proud man watches, the energy mirrored by a geometric pattern of three interlocking circles suggesting unity and teamwork. At the bottom, \"During the group's hiatus, Beyoncé released her debut solo album 'Dangerously in Love' (2003), winning five Grammys and producing the number-one hits 'Crazy in Love' and 'Baby Boy'.\" is visualized by the same woman standing alone on a grand stage surrounded by shining awards and musical symbols under bright spotlights, enhanced by a stylized ribbon-like curve rising upward to symbolize her achievements. The overall style of the image is colorful, balanced, and elegantly illustrative, blending biographical storytelling with symbolic visual harmony.\n",
        "\"\"\""
      ]
    },
    {
      "cell_type": "markdown",
      "metadata": {
        "id": "YcBlppyh3ljj"
      },
      "source": [
        "# Step 4: Prepare JSON for BizGen"
      ]
    },
    {
      "cell_type": "code",
      "execution_count": 5,
      "metadata": {
        "id": "xkunzU7H5zEu"
      },
      "outputs": [],
      "source": [
        "s1 = json.loads(stage_1_output)\n",
        "s2 = json.loads(stage_2_output)\n",
        "full_caption = stage_3_output.strip()\n",
        "\n",
        "merged = {it[\"id\"]: {\"id\": it[\"id\"], \"summary\": it[\"summary\"], \"ideas\": []} for it in s1[\"summaries\"]}\n",
        "for it in s2[\"figures\"]:\n",
        "    if it[\"id\"] in merged:\n",
        "        merged[it[\"id\"]][\"ideas\"] = it[\"ideas\"]\n",
        "\n",
        "merged_figures = [merged[k] for k in sorted(merged.keys())]\n",
        "\n",
        "bizgen_input = [{\n",
        "    \"full_image_caption\": full_caption,\n",
        "    \"background_caption\": \"Modern gradient background transitioning from light blue to white\",\n",
        "    \"figures\": merged_figures\n",
        "}]"
      ]
    },
    {
      "cell_type": "code",
      "execution_count": 6,
      "metadata": {
        "colab": {
          "base_uri": "https://localhost:8080/"
        },
        "id": "r3VjvXPv53gK",
        "outputId": "fa3aed58-510c-4431-cc56-bf7f23b5cfad"
      },
      "outputs": [
        {
          "name": "stdout",
          "output_type": "stream",
          "text": [
            "=== Merge Stage Narrator ===\n",
            "Processing narrator-generated infographic data from JSON string...\n",
            "Loading required data files...\n",
            "  - Loaded 100 bbox sets\n",
            "  - Loaded 138 colors\n",
            "  - Loaded 988 fonts\n",
            "  - Parsed 1 infographic entries from JSON string\n",
            "  - Input format validation: Format is valid\n",
            "\n",
            "Processing infographic data...\n",
            "Auto-scaling small text bboxes for wiki 1...\n",
            "Validating canvas bounds for wiki 1...\n",
            "Layout quality warning for wiki 1: score=0.60\n",
            "\n",
            "Success! Generated 1 wiki entries\n",
            "Output saved to: meta/test_infographics.json\n",
            "Data format matches merge_stage_narrator.py output\n",
            "-rw-rw-r-- 1 thinhnp thinhnp 10304 Thg 10 25 14:06 meta/test_infographics.json\n"
          ]
        }
      ],
      "source": [
        "# Import and use the data generator with JSON string input\n",
        "import generate_bizgen_data\n",
        "\n",
        "# Convert bizgen_input to JSON string (the function expects JSON string, not dict)\n",
        "import json\n",
        "json_string_input = json.dumps(bizgen_input)\n",
        "\n",
        "# Generate BizGen format data from the JSON string\n",
        "bizgen_data = generate_bizgen_data.merge_narrator_data_from_string(\n",
        "    input_json_string=json_string_input,\n",
        "    max_samples=1,\n",
        "    output_path=\"meta/test_infographics.json\"\n",
        ")\n",
        "\n",
        "# Verify the generated file\n",
        "!ls -la meta/test_infographics.json"
      ]
    },
    {
      "cell_type": "markdown",
      "metadata": {
        "id": "UPVlgSzEOgaT"
      },
      "source": [
        "# Step 5: Inference"
      ]
    },
    {
      "cell_type": "code",
      "execution_count": 7,
      "metadata": {
        "id": "pF-i8UlxOtEu"
      },
      "outputs": [
        {
          "name": "stdout",
          "output_type": "stream",
          "text": [
            "Traceback (most recent call last):\n",
            "  File \"/home/thinhnp/hf_vqa/src/data/bizgen/inference.py\", line 9, in <module>\n",
            "    import torch\n",
            "ModuleNotFoundError: No module named 'torch'\n",
            "CPU times: user 6.25 ms, sys: 9.11 ms, total: 15.4 ms\n",
            "Wall time: 793 ms\n"
          ]
        }
      ],
      "source": [
        "%%time\n",
        "!python inference.py \\\n",
        "--ckpt_dir checkpoints/lora/infographic \\\n",
        "--output_dir infographic \\\n",
        "--sample_list meta/test_infographics.json"
      ]
    }
  ],
  "metadata": {
    "accelerator": "GPU",
    "colab": {
      "gpuType": "T4",
      "provenance": []
    },
    "kernelspec": {
      "display_name": "AIO_Assistant",
      "language": "python",
      "name": "python3"
    },
    "language_info": {
      "codemirror_mode": {
        "name": "ipython",
        "version": 3
      },
      "file_extension": ".py",
      "mimetype": "text/x-python",
      "name": "python",
      "nbconvert_exporter": "python",
      "pygments_lexer": "ipython3",
      "version": "3.10.18"
    }
  },
  "nbformat": 4,
  "nbformat_minor": 0
}
